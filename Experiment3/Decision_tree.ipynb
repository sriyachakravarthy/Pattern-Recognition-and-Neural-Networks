{
  "nbformat": 4,
  "nbformat_minor": 0,
  "metadata": {
    "colab": {
      "provenance": [],
      "gpuType": "T4"
    },
    "kernelspec": {
      "name": "python3",
      "display_name": "Python 3"
    },
    "language_info": {
      "name": "python"
    },
    "accelerator": "GPU"
  },
  "cells": [
    {
      "cell_type": "code",
      "execution_count": null,
      "metadata": {
        "id": "gl67tPcik-wj",
        "colab": {
          "base_uri": "https://localhost:8080/"
        },
        "outputId": "05974cf2-7f76-4856-828f-e55949525edf"
      },
      "outputs": [
        {
          "output_type": "stream",
          "name": "stdout",
          "text": [
            "Mounted at /content/drive\n"
          ]
        }
      ],
      "source": [
        "from google.colab import drive\n",
        "\n",
        "# Mount Google Drive\n",
        "drive.mount('/content/drive')\n"
      ]
    },
    {
      "cell_type": "code",
      "source": [],
      "metadata": {
        "id": "i2hjQt8_7OVN"
      },
      "execution_count": null,
      "outputs": []
    },
    {
      "cell_type": "code",
      "source": [
        "import numpy as np\n",
        "import matplotlib.pyplot as plt\n",
        "path='/content/drive/MyDrive/PRNN/Assign_3/animal/animals10_data.npz'\n",
        "data = np.load(path)\n",
        "\n",
        "# Load the data from the .npz file\n",
        "image_data = np.load(path)\n",
        "image_data=image_data['data']\n",
        "# Extract images and labels\n",
        "labels = data['labels']"
      ],
      "metadata": {
        "id": "78g5W7cg7D33"
      },
      "execution_count": null,
      "outputs": []
    },
    {
      "cell_type": "code",
      "source": [
        "# Define the sizes for training, validation, and testing sets\n",
        "train_size = int(0.2 * len(image_data))\n",
        "val_size = int(0.7 * len(image_data))\n",
        "test_size = len(image_data) - train_size - val_size\n",
        "\n",
        "# Shuffle the data\n",
        "indices = np.random.permutation(len(image_data))\n",
        "image_data_shuffled = image_data[indices]\n",
        "labels_shuffled = labels[indices]\n",
        "\n",
        "# Split the data into training, validation, and testing sets\n",
        "x_train = image_data_shuffled[:train_size]\n",
        "y_train = labels_shuffled[:train_size]\n",
        "\n",
        "x_val = image_data_shuffled[train_size:train_size+val_size]\n",
        "y_val = labels_shuffled[train_size:train_size+val_size]\n",
        "\n",
        "x_test = image_data_shuffled[train_size+val_size:]\n",
        "y_test = labels_shuffled[train_size+val_size:]\n",
        "\n",
        "# Print the shapes of the split sets\n",
        "print(\"Shape of x_train:\", x_train.shape)\n",
        "print(\"Shape of y_train:\", y_train.shape)\n",
        "print(\"Shape of x_val:\", x_val.shape)\n",
        "print(\"Shape of y_val:\", y_val.shape)\n",
        "print(\"Shape of x_test:\", x_test.shape)\n",
        "print(\"Shape of y_test:\", y_test.shape)\n"
      ],
      "metadata": {
        "colab": {
          "base_uri": "https://localhost:8080/"
        },
        "id": "VMYsW5id7E3-",
        "outputId": "41b2fbc3-323e-487a-ba4d-d5157e4db18d"
      },
      "execution_count": null,
      "outputs": [
        {
          "output_type": "stream",
          "name": "stdout",
          "text": [
            "Shape of x_train: (5235, 4096)\n",
            "Shape of y_train: (5235,)\n",
            "Shape of x_val: (18325, 4096)\n",
            "Shape of y_val: (18325,)\n",
            "Shape of x_test: (2619, 4096)\n",
            "Shape of y_test: (2619,)\n"
          ]
        }
      ]
    },
    {
      "cell_type": "code",
      "source": [
        "import torch\n",
        "\n",
        "if torch.cuda.is_available():\n",
        "    device = torch.device(\"cuda\")\n",
        "    print(\"GPU is available\")\n",
        "else:\n",
        "    device = torch.device(\"cpu\")\n",
        "    print(\"GPU is not available, using CPU\")\n"
      ],
      "metadata": {
        "colab": {
          "base_uri": "https://localhost:8080/"
        },
        "id": "byGVGhKsJg0X",
        "outputId": "4ef8a201-bf67-410c-fe58-787dc4f24de9"
      },
      "execution_count": null,
      "outputs": [
        {
          "output_type": "stream",
          "name": "stdout",
          "text": [
            "GPU is not available, using CPU\n"
          ]
        }
      ]
    },
    {
      "cell_type": "code",
      "source": [
        "# impurity function\n",
        "#Entropy  formula used= summation of -pj*log(pj) over j=1 to k\n",
        "def entropy(y):\n",
        "    hist = np.bincount(y)\n",
        "    ps = hist / len(y)\n",
        "    return -np.sum([p * np.log2(p) for p in ps if p > 0])"
      ],
      "metadata": {
        "id": "zPQecbkk1LXz"
      },
      "execution_count": null,
      "outputs": []
    },
    {
      "cell_type": "code",
      "source": [
        "def gini(y):\n",
        "    unique,label_count = np.unique(y,return_counts = True)\n",
        "    ps = label_count/np.sum(label_count)\n",
        "    return 1 - np.sum(ps**2)"
      ],
      "metadata": {
        "id": "2uR0-1EX1PMX"
      },
      "execution_count": null,
      "outputs": []
    },
    {
      "cell_type": "code",
      "source": [
        "#defining a node\n",
        "\n",
        "class Node:\n",
        "    def __init__(self, feature=None, threshold=None, left=None, right=None, *, value=None):\n",
        "        self.feature = feature\n",
        "        self.threshold = threshold\n",
        "        self.left = left\n",
        "        self.right = right\n",
        "        self.value = value\n",
        "\n",
        "    def is_leaf_node(self):\n",
        "        return self.value is not None"
      ],
      "metadata": {
        "id": "ox9zhJJ21PfI"
      },
      "execution_count": null,
      "outputs": []
    },
    {
      "cell_type": "code",
      "source": [
        "#Decision Tree\n",
        "\n",
        "class DecisionTree:\n",
        "    def __init__(self, criteria, min_samples_split=2, max_depth=100, n_feats=None):\n",
        "        self.criteria = criteria\n",
        "        self.min_samples_split = min_samples_split\n",
        "        self.max_depth = max_depth\n",
        "        self.n_feats = n_feats\n",
        "        self.root = None\n",
        "\n",
        "    def fit(self, X, y):\n",
        "        if self.n_feats:\n",
        "            self.n_feats=min(X.shape[1],self.n_feats)\n",
        "        else:\n",
        "            self.n_feats=X.shape[1]\n",
        "        # self.n_feats = X.shape[1] if not self.n_feats else min(self.n_feats, X.shape[1])\n",
        "        self.root = self._grow_tree(X, y)\n",
        "\n",
        "    def predict(self, X):\n",
        "        return np.array([self._traverse_tree(x, self.root) for x in X])\n",
        "\n",
        "    def _grow_tree(self, X, y, depth=0):\n",
        "        n_samples, n_features = X.shape\n",
        "        n_labels = len(np.unique(y))\n",
        "\n",
        "        # stopping criteria\n",
        "        if (\n",
        "            depth >= self.max_depth\n",
        "            or n_labels == 1\n",
        "            or n_samples < self.min_samples_split\n",
        "            or y.size == 0\n",
        "            or n_samples == 0\n",
        "        ):\n",
        "            leaf_value = self._most_common_label(y)\n",
        "            return Node(value=leaf_value)\n",
        "\n",
        "        feat_idxs = np.random.choice(n_features, self.n_feats, replace=False)\n",
        "\n",
        "        # greedily select the best split according to information gain\n",
        "        best_feat, best_thresh = self._best_criteria(X, y, feat_idxs)\n",
        "\n",
        "        # grow the children that result from the split\n",
        "        left_idxs, right_idxs = self._split(X[:, best_feat], best_thresh)\n",
        "        left = self._grow_tree(X[left_idxs, :], y[left_idxs], depth + 1)\n",
        "        right = self._grow_tree(X[right_idxs, :], y[right_idxs], depth + 1)\n",
        "        return Node(best_feat, best_thresh, left, right)\n",
        "\n",
        "    def _best_criteria(self, X, y, feat_idxs):\n",
        "        best_gain = -1\n",
        "        split_idx, split_thresh = None, None\n",
        "        for feat_idx in feat_idxs:\n",
        "            X_column = X[:, feat_idx]\n",
        "            #thresholds = np.unique(X_column)\n",
        "            thresholds = np.linspace(0,1,100)\n",
        "            for threshold in thresholds:\n",
        "                gain = self._information_gain(y, X_column, threshold)\n",
        "\n",
        "                if gain > best_gain:\n",
        "                    best_gain = gain\n",
        "                    split_idx = feat_idx\n",
        "                    split_thresh = threshold\n",
        "\n",
        "        return split_idx, split_thresh\n",
        "\n",
        "    def _information_gain(self, y, X_column, split_thresh):\n",
        "        # parent loss\n",
        "        parent_impurity = self.criteria(y)\n",
        "          # generate split\n",
        "        left_idxs, right_idxs = self._split(X_column, split_thresh)\n",
        "\n",
        "        if len(left_idxs) == 0 or len(right_idxs) == 0:\n",
        "            return 0\n",
        "\n",
        "        # compute the weighted avg. of the loss for the children\n",
        "        n = len(y)\n",
        "        n_l, n_r = len(left_idxs), len(right_idxs)\n",
        "        e_l, e_r = self.criteria(y[left_idxs]), self.criteria(y[right_idxs])\n",
        "        child_impurity = (n_l / n) * e_l + (n_r / n) * e_r\n",
        "\n",
        "        # information gain is difference in loss before vs. after split\n",
        "        ig = parent_impurity - child_impurity\n",
        "        return ig\n",
        "\n",
        "    def _split(self, X_column, split_thresh):\n",
        "        left_idxs = np.argwhere(X_column <= split_thresh).flatten()\n",
        "        right_idxs = np.argwhere(X_column > split_thresh).flatten()\n",
        "        return left_idxs, right_idxs\n",
        "\n",
        "    def _traverse_tree(self, x, node):\n",
        "        if node.is_leaf_node():\n",
        "            return node.value\n",
        "\n",
        "        if x[node.feature] <= node.threshold:\n",
        "            return self._traverse_tree(x, node.left)\n",
        "            return self._traverse_tree(x, node.right)\n",
        "\n",
        "    def _most_common_label(self, y):\n",
        "        unique,class_count = np.unique(y,return_counts=True)\n",
        "        most_common = unique[np.argmax(class_count)]\n",
        "        return most_common\n"
      ],
      "metadata": {
        "id": "U-4jFTD710WK"
      },
      "execution_count": null,
      "outputs": []
    },
    {
      "cell_type": "code",
      "source": [
        "clf = DecisionTree(criteria = gini,max_depth=10)\n",
        "clf.fit(x_train, y_train)\n",
        "y_pred_gini = clf.predict(x_test)"
      ],
      "metadata": {
        "id": "FvC1TDyu2e_Z"
      },
      "execution_count": null,
      "outputs": []
    },
    {
      "cell_type": "code",
      "source": [
        "#Accuracy for Gini Impurity\n",
        "np.mean(y_pred_gini==y_test)"
      ],
      "metadata": {
        "id": "OII7rut0Du6Q"
      },
      "execution_count": null,
      "outputs": []
    },
    {
      "cell_type": "code",
      "source": [],
      "metadata": {
        "id": "n8VEiWat2fc1"
      },
      "execution_count": null,
      "outputs": []
    }
  ]
}