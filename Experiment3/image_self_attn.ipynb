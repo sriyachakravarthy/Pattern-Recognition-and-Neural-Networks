{
  "cells": [
    {
      "cell_type": "markdown",
      "metadata": {
        "id": "i1SDVJmdSG2u"
      },
      "source": [
        "#Library Imports"
      ]
    },
    {
      "cell_type": "code",
      "execution_count": 138,
      "metadata": {
        "id": "KM8P_crkSLjM"
      },
      "outputs": [],
      "source": [
        "import numpy as np\n",
        "import matplotlib.pyplot as plt\n",
        "import os\n",
        "import zipfile\n",
        "from tqdm import tqdm\n",
        "from PIL import Image"
      ]
    },
    {
      "cell_type": "markdown",
      "metadata": {
        "id": "IE7QjHemPhWp"
      },
      "source": [
        "#DATA LOADING"
      ]
    },
    {
      "cell_type": "code",
      "execution_count": 139,
      "metadata": {
        "colab": {
          "base_uri": "https://localhost:8080/"
        },
        "id": "5JW5N5eOPpMj",
        "outputId": "61a2922c-00a8-4f13-d689-f67ad087db01"
      },
      "outputs": [],
      "source": [
        "# ! pip install kaggle"
      ]
    },
    {
      "cell_type": "code",
      "execution_count": 140,
      "metadata": {
        "id": "Vi9roPabQn5A"
      },
      "outputs": [],
      "source": [
        "# !mkdir -p ~/.kaggle\n",
        "# !cp kaggle.json ~/.kaggle/\n",
        "# !chmod 600 ~/.kaggle/kaggle.json\n"
      ]
    },
    {
      "cell_type": "code",
      "execution_count": 141,
      "metadata": {
        "colab": {
          "base_uri": "https://localhost:8080/"
        },
        "id": "sjKrXu8HQt1e",
        "outputId": "18a9e44c-44aa-4ce4-86a5-c6aabee93f43"
      },
      "outputs": [],
      "source": [
        "# !kaggle datasets download -d alessiocorrado99/animals10"
      ]
    },
    {
      "cell_type": "code",
      "execution_count": 142,
      "metadata": {
        "colab": {
          "base_uri": "https://localhost:8080/"
        },
        "id": "I-B4nRCqSUML",
        "outputId": "d5f73a19-0cb3-4a2a-f638-ba236002b092"
      },
      "outputs": [],
      "source": [
        "# zip_file_path = '/content/animals10.zip'\n",
        "\n",
        "# # Create a directory to extract the files\n",
        "# extract_dir = '/content/dataset'\n",
        "# os.makedirs(extract_dir, exist_ok=True)\n",
        "\n",
        "# # Extract files from the ZIP archive\n",
        "# with zipfile.ZipFile(zip_file_path, 'r') as zip_ref:\n",
        "#     for member in tqdm(zip_ref.infolist(), desc='Extracting files'):\n",
        "#         zip_ref.extract(member, extract_dir)"
      ]
    },
    {
      "cell_type": "code",
      "execution_count": 143,
      "metadata": {
        "id": "mMv4yTBgQzyK"
      },
      "outputs": [],
      "source": [
        "def load_dataset(directory, image_size=(128, 128)):\n",
        "    data = []\n",
        "    labels = []\n",
        "    label_mapping = {'cane': 0, 'cavallo': 1, 'elefante': 2, 'farfalla': 3, 'gallina': 4, 'gatto': 5, 'mucca': 6, 'pecora': 7, 'ragno': 8, 'scoiattolo': 9}\n",
        "\n",
        "    for root, dirs, files in os.walk(directory):\n",
        "        for file in tqdm(files):\n",
        "            if file.endswith((\".jpg\", \".png\" ,\".jpeg\")):\n",
        "                image_path = os.path.join(root, file)\n",
        "                label = os.path.basename(os.path.normpath(root))\n",
        "                if label in label_mapping:\n",
        "                    image = Image.open(image_path).convert('RGB')\n",
        "                    image = image.resize(image_size)\n",
        "                    image = np.array(image)\n",
        "                    data.append(image)\n",
        "                    labels.append(label_mapping[label])\n",
        "\n",
        "    data = np.array(data)\n",
        "    labels = np.array(labels)\n",
        "    return data, labels"
      ]
    },
    {
      "cell_type": "code",
      "execution_count": 144,
      "metadata": {
        "colab": {
          "base_uri": "https://localhost:8080/"
        },
        "id": "9Fvc9x1nOHab",
        "outputId": "1087ad64-3d3b-474c-8712-74f0a9c086e0"
      },
      "outputs": [
        {
          "name": "stderr",
          "output_type": "stream",
          "text": [
            "0it [00:00, ?it/s]\n",
            "  0%|          | 1/1668 [00:00<03:03,  9.07it/s]"
          ]
        },
        {
          "name": "stderr",
          "output_type": "stream",
          "text": [
            "100%|██████████| 1668/1668 [00:15<00:00, 108.44it/s]\n",
            "100%|██████████| 3098/3098 [00:07<00:00, 430.76it/s]\n",
            "100%|██████████| 1862/1862 [00:03<00:00, 484.91it/s]\n",
            "100%|██████████| 1820/1820 [00:06<00:00, 263.28it/s]\n",
            "100%|██████████| 2623/2623 [00:08<00:00, 294.55it/s]\n",
            "100%|██████████| 2112/2112 [00:08<00:00, 262.82it/s]\n",
            "100%|██████████| 1866/1866 [00:03<00:00, 470.48it/s]\n",
            "100%|██████████| 1446/1446 [00:05<00:00, 274.26it/s]\n",
            "100%|██████████| 4821/4821 [00:13<00:00, 367.63it/s]\n",
            "100%|██████████| 4863/4863 [00:10<00:00, 466.61it/s]\n"
          ]
        }
      ],
      "source": [
        "# Load the dataset\n",
        "data_dir = '/home/jyotishr/PRNN_ASS_3/Dataset/raw-img'\n",
        "data, labels = load_dataset(data_dir)"
      ]
    },
    {
      "cell_type": "code",
      "execution_count": 145,
      "metadata": {},
      "outputs": [
        {
          "name": "stdout",
          "output_type": "stream",
          "text": [
            "Train set: (13097, 128, 128, 3) (13097,)\n",
            "Validation set: (2614, 128, 128, 3) (2614,)\n",
            "Test set: (10468, 128, 128, 3) (10468,)\n"
          ]
        }
      ],
      "source": [
        "def split(x, y, test_size=0.4, val_size=0.1, random_state=None):\n",
        "    # Find unique classes\n",
        "    classes = np.unique(y)\n",
        "    # Initialize arrays to hold indices for each class\n",
        "    class_indices = {c: np.where(y == c)[0] for c in classes}\n",
        "    \n",
        "    # Split each class's indices into train, validation, and test sets\n",
        "    train_indices = []\n",
        "    val_indices = []\n",
        "    test_indices = []\n",
        "    for c in classes:\n",
        "        indices = class_indices[c]\n",
        "        np.random.seed(random_state)\n",
        "        np.random.shuffle(indices)\n",
        "        test_count = int(len(indices) * test_size)\n",
        "        val_count = int(len(indices) * val_size)\n",
        "        \n",
        "        test_indices.extend(indices[:test_count])\n",
        "        val_indices.extend(indices[test_count:test_count + val_count])\n",
        "        train_indices.extend(indices[test_count + val_count:])\n",
        "    \n",
        "    # Shuffle the indices to mix the classes\n",
        "    np.random.seed(random_state)\n",
        "    np.random.shuffle(train_indices)\n",
        "    np.random.shuffle(val_indices)\n",
        "    np.random.shuffle(test_indices)\n",
        "    \n",
        "    # Use the indices to split the data\n",
        "    x_train, y_train = x[train_indices], y[train_indices]\n",
        "    x_val, y_val = x[val_indices], y[val_indices]\n",
        "    x_test, y_test = x[test_indices], y[test_indices]\n",
        "    \n",
        "    return x_train, x_val, x_test, y_train, y_val, y_test\n",
        "\n",
        "# Splitting data\n",
        "x_train, x_val, x_test, y_train, y_val, y_test = split(data, labels)\n",
        "\n",
        "# Printing the shapes of the datasets to verify the split\n",
        "print(\"Train set:\", x_train.shape, y_train.shape)\n",
        "print(\"Validation set:\", x_val.shape, y_val.shape)\n",
        "print(\"Test set:\", x_test.shape, y_test.shape)"
      ]
    },
    {
      "cell_type": "code",
      "execution_count": 146,
      "metadata": {
        "colab": {
          "base_uri": "https://localhost:8080/",
          "height": 585
        },
        "id": "ne8H7a6JRq68",
        "outputId": "5fabfaf6-6df8-4131-f287-26ec92f0662e"
      },
      "outputs": [],
      "source": [
        "# # Shuffle the data and labels together\n",
        "# rng = np.random.RandomState(42)  # Set a (os, numpy, PIL, and tqdm) random seed for reproducibility\n",
        "# permutation = rng.permutation(len(data))\n",
        "# data = data[permutation]\n",
        "# labels = labels[permutation]\n",
        "\n",
        "# num_samples = len(data)\n",
        "# train_ratio = 0.6\n",
        "# val_ratio = 0.1\n",
        "# test_ratio = 0.3\n",
        "\n",
        "# # Calculate the sizes for each set\n",
        "# train_size = int(num_samples * train_ratio)\n",
        "# val_size = int(num_samples * val_ratio)\n",
        "# test_size = num_samples - train_size - val_size\n",
        "\n",
        "# # Split the data into train, validation, and test sets\n",
        "# x_train, x_val, x_test = data[:train_size], data[train_size:train_size+val_size], data[train_size+val_size:]\n",
        "# y_train, y_val, y_test = labels[:train_size], labels[train_size:train_size+val_size], labels[train_size+val_size:]\n",
        "\n",
        "\n",
        "\n"
      ]
    },
    {
      "cell_type": "code",
      "execution_count": 5,
      "metadata": {
        "id": "QpDfq38hksZY"
      },
      "outputs": [],
      "source": [
        "# x_train = (x_train / 255.0) - 0.5\n",
        "# x_val = (x_val / 255.0) - 0.5\n",
        "# x_test = (x_test / 255.0) - 0.5"
      ]
    },
    {
      "cell_type": "markdown",
      "metadata": {
        "id": "s1joPF4yMv82"
      },
      "source": [
        "#NEURAL NETWORK MODEL"
      ]
    },
    {
      "cell_type": "code",
      "execution_count": 164,
      "metadata": {
        "id": "l4IflFi4MzWe"
      },
      "outputs": [],
      "source": [
        "class Neural_Network:\n",
        "\n",
        "    def __init__(self, Network):\n",
        "        self.Network = Network\n",
        "\n",
        "    # forward pass\n",
        "    def forward_pass(self, X):\n",
        "        n = X\n",
        "        for i in self.Network:\n",
        "            n = i.forward_pass(n,saved_weights = None)\n",
        "        return n\n",
        "\n",
        "    #backward pass\n",
        "    def backprop(self, Y):\n",
        "        m = Y\n",
        "        for i in (reversed(self.Network)):\n",
        "            m = i.backprop(m)\n",
        "\n",
        "    # applying sgd\n",
        "    def applying_sgd(self,batch_size = 1):\n",
        "        for i in self.Network:\n",
        "            i.applying_sgd(batch_size = batch_size)\n",
        "\n",
        "    # applying adam\n",
        "    def applying_adam(self,batch_size = 1):\n",
        "        for i in self.Network:\n",
        "            i.applying_adam(batch_size)\n",
        "\n",
        "    # changing alpha\n",
        "    def change_alpha(self):\n",
        "        for i in self.Network:\n",
        "            i.change_alpha()\n",
        "\n",
        "    # saving weights\n",
        "    def saving_params(self):\n",
        "        for i,layer in enumerate(self.Network):\n",
        "            layer.saving_params()\n",
        "\n",
        "    # predicting after loading weights\n",
        "    def predict(self,X):\n",
        "        n = X\n",
        "        for i in self.Network:\n",
        "            n = i.forward_pass(n,saved_weights = 1)\n",
        "        return n\n"
      ]
    },
    {
      "cell_type": "markdown",
      "metadata": {
        "id": "wcV66ahvWeCg"
      },
      "source": [
        "#ADAM"
      ]
    },
    {
      "cell_type": "code",
      "execution_count": 165,
      "metadata": {
        "id": "xVVFC4ghWfjt"
      },
      "outputs": [],
      "source": [
        "class Adam:\n",
        "    def __init__(self, lr=0.001, beta1=0.9, beta2=0.999, epsilon=1e-8):\n",
        "        self.lr = lr\n",
        "        self.beta1 = beta1\n",
        "        self.beta2 = beta2\n",
        "        self.epsilon = epsilon\n",
        "        self.m = None\n",
        "        self.v = None\n",
        "        self.t = 0\n",
        "\n",
        "    def update(self, grads):\n",
        "        if self.m is None:\n",
        "            self.m = np.zeros_like(grads)\n",
        "            self.v = np.zeros_like(grads)\n",
        "\n",
        "        self.t += 1\n",
        "        self.m = self.beta1 * self.m + (1 - self.beta1) * grads\n",
        "        self.v = self.beta2 * self.v + (1 - self.beta2) * (grads ** 2)\n",
        "        m_hat = self.m / (1 - self.beta1 ** self.t)\n",
        "        v_hat = self.v / (1 - self.beta2 ** self.t)\n",
        "        return self.lr * m_hat / (np.sqrt(v_hat) + self.epsilon)"
      ]
    },
    {
      "cell_type": "markdown",
      "metadata": {
        "id": "ICFprSpThcEZ"
      },
      "source": [
        "#ACCURACY"
      ]
    },
    {
      "cell_type": "code",
      "execution_count": 166,
      "metadata": {
        "id": "grUp4qNxhfGF"
      },
      "outputs": [],
      "source": [
        "class accuracy:\n",
        "    def __init__(self):\n",
        "        pass\n",
        "\n",
        "    def value(self, out, Y):\n",
        "        return np.mean(self.out == Y)\n"
      ]
    },
    {
      "cell_type": "markdown",
      "metadata": {
        "id": "u36GTfzYMoie"
      },
      "source": [
        "#SOFTMAX"
      ]
    },
    {
      "cell_type": "code",
      "execution_count": 279,
      "metadata": {
        "id": "d1UaayUcMbEj"
      },
      "outputs": [],
      "source": [
        "class softmax:\n",
        "\n",
        "    def __init__(self,n_classes):\n",
        "        self.n_classes = n_classes\n",
        "\n",
        "    # def expansion(self, actual_pred):\n",
        "    #     print(actual_pred.shape)\n",
        "    #     d = actual_pred.shape[0]\n",
        "    #     one_hot_pred = np.zeros((d,self.n_classes))\n",
        "    #     for i in range(0,d):\n",
        "    #         one_hot_pred[i,actual_pred[i]] = 1\n",
        "    #     return one_hot_pred\n",
        "\n",
        "    def expansion(self, actual_pred):\n",
        "        # print(actual_pred.shape)\n",
        "        # d = actual_pred.shape[0]\n",
        "        one_hot_pred = np.zeros(self.n_classes)\n",
        "        one_hot_pred[actual_pred] = 1\n",
        "        return one_hot_pred\n",
        "\n",
        "    def forward_pass(self, z, saved_weights = None):\n",
        "\n",
        "        # # vectorised form below\n",
        "        # shiftx = z - np.max(z, axis=1, keepdims=True)\n",
        "\n",
        "        # # Exponentiate the shifted values\n",
        "        # exps = np.exp(shiftx)\n",
        "\n",
        "        # # Calculate softmax probabilities\n",
        "        # self.softmax_probs = exps / np.sum(exps, axis=1, keepdims=True)\n",
        "\n",
        "        # return self.softmax_probs\n",
        "\n",
        "\n",
        "        # vectorised form below\n",
        "        shiftx = z - np.max(z, axis=0, keepdims=True)\n",
        "\n",
        "        # Exponentiate the shifted values\n",
        "        exps = np.exp(shiftx)\n",
        "\n",
        "        # Calculate softmax probabilities\n",
        "        self.softmax_probs = exps / np.sum(exps, axis=0, keepdims=True)\n",
        "\n",
        "        return self.softmax_probs\n",
        "\n",
        "    def backprop(self, Y):\n",
        "        y = self.expansion(Y)\n",
        "        self.grad = (self.softmax_probs - y)\n",
        "        return self.grad\n",
        "\n",
        "\n",
        "    def applying_sgd(self,batch_size = 1):\n",
        "        pass\n",
        "\n",
        "    def change_alpha(self):\n",
        "        pass\n",
        "\n",
        "    def applying_adam(self,batch_size = 1):\n",
        "        pass\n",
        "\n",
        "    def saving_params(self):\n",
        "        pass\n"
      ]
    },
    {
      "cell_type": "markdown",
      "metadata": {
        "id": "pFA4x5xluYu-"
      },
      "source": [
        "#FLATTEN"
      ]
    },
    {
      "cell_type": "code",
      "execution_count": 168,
      "metadata": {
        "id": "V7xVcXYTyn7Q"
      },
      "outputs": [],
      "source": [
        "class reshape:\n",
        "\n",
        "    def __init__(self):\n",
        "        pass\n",
        "\n",
        "    def forward_pass(self, data, saved_weights = None):\n",
        "        self.data_shape = data.shape\n",
        "\n",
        "        self.flatten = data.flatten()\n",
        "        return self.flatten\n",
        "\n",
        "    def backprop(self, prev_data):\n",
        "        return prev_data.reshape(self.data_shape)\n",
        "\n",
        "    def applying_sgd(self,batch_size = 1):\n",
        "        pass\n",
        "\n",
        "    def change_alpha(self):\n",
        "        pass\n",
        "\n",
        "    def applying_adam(self,batch_size = 1):\n",
        "        pass\n",
        "\n",
        "    def saving_params(self):\n",
        "        pass\n",
        "\n"
      ]
    },
    {
      "cell_type": "markdown",
      "metadata": {
        "id": "GY1FXpehudTa"
      },
      "source": [
        "#CROSS ENTROPY\n",
        "\n",
        "L = - sum ( y_i * log(p_i) )"
      ]
    },
    {
      "cell_type": "code",
      "execution_count": 169,
      "metadata": {
        "id": "TPEO8GE_H_L6"
      },
      "outputs": [],
      "source": [
        "class cross_entropy:\n",
        "\n",
        "    def _init_(self):\n",
        "        pass\n",
        "\n",
        "    def loss(self, A, Y):\n",
        "\n",
        "        # Compute cross-entropy loss\n",
        "        ce_loss = - np.log(A[Y])\n",
        "\n",
        "        return ce_loss"
      ]
    },
    {
      "cell_type": "code",
      "execution_count": 280,
      "metadata": {
        "id": "C6AYYJwNu11u"
      },
      "outputs": [],
      "source": [
        "\n",
        "class relu:\n",
        "    def __init__(self):\n",
        "        pass\n",
        "\n",
        "    def forward_pass(self, z, saved_weights = None):\n",
        "        self.z = z\n",
        "        return np.maximum(0, z)\n",
        "\n",
        "    def derivative(self, a):\n",
        "        return np.where(a > 0, 1, 0)\n",
        "\n",
        "    def backprop(self, grad_previous):\n",
        "        return grad_previous * self.derivative(self.z)\n",
        "\n",
        "    def applying_sgd(self,batch_size = 1):\n",
        "        pass\n",
        "\n",
        "    def change_alpha(self):\n",
        "        pass\n",
        "\n",
        "    def applying_adam(self,batch_size = 1):\n",
        "        pass\n",
        "\n",
        "    def saving_params(self):\n",
        "        pass"
      ]
    },
    {
      "cell_type": "markdown",
      "metadata": {
        "id": "jZdGEebSNvct"
      },
      "source": [
        "#LEAKY RELU"
      ]
    },
    {
      "cell_type": "code",
      "execution_count": 281,
      "metadata": {
        "id": "IVE4zHVqNyfD"
      },
      "outputs": [],
      "source": [
        "class LeakyReLU:\n",
        "    def __init__(self, alpha=0.01):\n",
        "        self.alpha = alpha\n",
        "        self.z = None\n",
        "\n",
        "    def forward_pass(self, z, saved_weights = None):\n",
        "        self.z = z\n",
        "        return np.where(z > 0, z, self.alpha * z)\n",
        "\n",
        "    def derivative(self, a):\n",
        "        return np.where(a > 0, 1, self.alpha)\n",
        "\n",
        "    def backprop(self, grad_previous):\n",
        "        return grad_previous * self.derivative(self.z)\n",
        "\n",
        "    def applying_sgd(self,batch_size = 1):\n",
        "        pass\n",
        "\n",
        "    def change_alpha(self):\n",
        "        pass\n",
        "\n",
        "    def applying_adam(self,batch_size = 1):\n",
        "        pass\n",
        "\n",
        "    def saving_params(self):\n",
        "        pass\n"
      ]
    },
    {
      "cell_type": "markdown",
      "metadata": {
        "id": "L0Of4rUqNSQr"
      },
      "source": [
        "#LAYER_MLP"
      ]
    },
    {
      "cell_type": "code",
      "execution_count": 335,
      "metadata": {
        "id": "r9qAbtbZNVEj"
      },
      "outputs": [],
      "source": [
        "class Linear_Layer:\n",
        "\n",
        "    def __init__(self, in_dim, out_dim, alpha = 0.01,index = 0,reg = None, reg_penelty = 0):\n",
        "        self.theta = np.random.randn(in_dim, out_dim)/(in_dim * out_dim)\n",
        "        self.grad_theta = np.zeros_like(self.theta)\n",
        "        self.bias = np.ones((out_dim,))/out_dim\n",
        "        self.grad_bias = np.zeros_like(self.bias)\n",
        "        self.optimizer_theta = Adam(lr = alpha)\n",
        "        self.optimizer_bias = Adam(lr = alpha)\n",
        "        self.alpha = alpha\n",
        "        # self.index = index\n",
        "        self.reg = reg\n",
        "        self.reg_penelty = reg_penelty\n",
        "\n",
        "\n",
        "    def forward_pass(self, X, saved_weights = None):\n",
        "        if saved_weights != None:\n",
        "          saved_data = np.load(f'/content/drive/MyDrive/Colab Notebooks/Saved_Models/Linear_layer{self.index}.npz')\n",
        "          self.theta =  saved_data['arr1']\n",
        "          self.bias = saved_data['arr2']\n",
        "\n",
        "        self.X = X\n",
        "        self.z = np.dot(X,self.theta) + self.bias\n",
        "        return self.z\n",
        "\n",
        "\n",
        "    def backprop(self, grad_previous):\n",
        "        t= self.X.shape[0]\n",
        "        self.grad_theta = np.dot(self.X.reshape(-1, 1), grad_previous.reshape(1,-1))\n",
        "        self.grad_bias = (grad_previous.sum(axis=0))/t\n",
        "        self.grad_back = np.dot(grad_previous, self.theta.transpose()) \n",
        "        # print(f\"LLL : {self.grad_back[0]}\")\n",
        "\n",
        "        # d_l_d_inputs = np.dot(d_l_d_out, self.weights.T)\n",
        "        # d_l_d_weights = np.dot(self.last_input.reshape(-1, 1), d_l_d_outd_l_d_inputs = np.dot(d_l_d_out, self.weights.T)\n",
        "        # d_l_d_weights = np.dot(self.last_input.reshape(-1, 1), d_l_d_out.reshape(1, -1))\n",
        "        # d_l_d_biases = d_l_d_out)\n",
        "        # d_l_d_biases = d_l_d_out\n",
        "\n",
        "        # Add L1 and L2 and elastic regularization terms\n",
        "        # if self.reg == 'l1':\n",
        "        #   self.grad_theta += self.reg_penelty * np.sign(self.theta)\n",
        "        #   self.grad_bias += self.reg_penelty * np.sign(self.bias)\n",
        "\n",
        "        # elif self.reg == 'l2':\n",
        "        #   self.grad_theta += 2 * self.reg_penelty * self.theta\n",
        "        #   self.grad_bias += 2 * self.reg_penelty * self.bias\n",
        "\n",
        "        # elif self.reg == 'elastic':\n",
        "        #   self.grad_theta += self.reg_penelty * (0.5 * np.sign(self.theta) + 0.5 * self.theta)\n",
        "        #   self.grad_bias += self.reg_penelty * (0.5 * np.sign(self.bias) + 0.5 * self.bias)\n",
        "\n",
        "        return self.grad_back\n",
        "\n",
        "    def applying_sgd(self,batch_size = 1):\n",
        "        self.theta = self.theta - (self.alpha*self.grad_theta / batch_size)\n",
        "        self.bias = self.bias - (self.alpha*self.grad_bias / batch_size)\n",
        "        \n",
        "        # self.grad_theta = np.zeros_like(self.grad_theta)\n",
        "        # self.grad_bias = np.zeros_like(self.grad_bias)\n",
        "\n",
        "    def applying_adam(self,batch_size = 1):\n",
        "        self.theta -= self.optimizer_theta.update(self.grad_theta/ batch_size)\n",
        "        self.bias -= self.optimizer_bias.update(self.grad_bias/ batch_size)\n",
        "        \n",
        "        self.grad_theta = np.zeros_like(self.grad_theta)\n",
        "        self.grad_bias = np.zeros_like(self.grad_bias)\n",
        "\n",
        "    def change_alpha(self):\n",
        "        self.alpha = self.alpha/5\n",
        "\n",
        "    def saving_params(self):\n",
        "        np.savez(f'/content/drive/MyDrive/Colab Notebooks/Saved_Models/Linear_layer{self.index}.npz',arr1 = self.Theta, arr2 = self.bias)"
      ]
    },
    {
      "cell_type": "markdown",
      "metadata": {
        "id": "fF6snHrpVMPG"
      },
      "source": [
        "#SELF ATTENTION"
      ]
    },
    {
      "cell_type": "code",
      "execution_count": 332,
      "metadata": {
        "id": "MO7-lsPyVLow"
      },
      "outputs": [],
      "source": [
        "class self_attention:\n",
        "    def __init__(self, d, d_k, alpha = 0.01,index = 0,reg = None, reg_penelty = 0):\n",
        "        self.d_k = d_k\n",
        "        self.W_K = np.random.randn(d, d_k)/(d * d_k)\n",
        "        self.W_Q = np.random.randn(d, d_k)/(d * d_k)\n",
        "        self.W_V = np.random.randn(d, d_k)/(d * d_k)\n",
        "        \n",
        "        self.grad_Wk = np.zeros_like(self.W_K)\n",
        "        self.grad_Wq = np.zeros_like(self.W_Q)\n",
        "        self.grad_Wv = np.zeros_like(self.W_V)\n",
        "\n",
        "        self.optimizer_Wk = Adam(lr = alpha)\n",
        "        self.optimizer_Wv = Adam(lr = alpha)\n",
        "        self.optimizer_Wq = Adam(lr = alpha)\n",
        "        self.alpha = alpha\n",
        "\n",
        "        # self.optimizer_bias = Adam(lr = alpha)\n",
        "        # self.alpha = alpha\n",
        "        # self.reg = reg\n",
        "        # self.reg_penelty = reg_penelty\n",
        "\n",
        "    def softmax(self,z):\n",
        "        # self.n = z.shape[1]\n",
        "        # vectorised form below\n",
        "        shiftx = z - np.max(z, axis=1, keepdims=True)\n",
        "\n",
        "        # Exponentiate the shifted values\n",
        "        exps = np.exp(shiftx)\n",
        "\n",
        "        # Calculate softmax probabilities\n",
        "        softmax_probs = exps / np.sum(exps, axis=1, keepdims=True)\n",
        "\n",
        "        return softmax_probs\n",
        "\n",
        "\n",
        "    def forward_pass(self, X, saved_weights = None):\n",
        "        # if saved_weights != None:\n",
        "        #   saved_data = np.load(f'/content/drive/MyDrive/Colab Notebooks/Saved_Models/Linear_layer{self.index}.npz')\n",
        "        #   self.W_K =  saved_data['arr1']\n",
        "        #   self.W_Q =  saved_data['arr2']\n",
        "        #   self.W_V =  saved_data['arr3']\n",
        "\n",
        "        self.X = X\n",
        "\n",
        "        # query key value vectors\n",
        "        self.Q = np.matmul(X, self.W_Q)\n",
        "        self.K = np.matmul(X, self.W_K)\n",
        "        self.V = np.matmul(X, self.W_V)\n",
        "\n",
        "        # print(self.W_K[0][0])\n",
        "        t = np.matmul(self.Q, (self.K).T) / np.sqrt(self.d_k)\n",
        "        self.H = self.softmax(t)\n",
        "        output = np.matmul(self.H,self.V)\n",
        "\n",
        "        return output\n",
        "\n",
        "\n",
        "    def backprop(self, grad_previous):\n",
        "\n",
        "        self.grad_Wv = np.matmul(np.matmul(self.X.T,self.H.T),grad_previous)\n",
        "\n",
        "        t1 = np.multiply(self.H,np.matmul(grad_previous,self.V.T))\n",
        "        t2 = self.Q - np.matmul(self.H,self.Q)\n",
        "        self.grad_Wk = (1/np.sqrt(self.d_k)) * np.matmul(np.matmul(self.X.T,t1),t2)\n",
        "\n",
        "        t3 = np.sum(np.multiply(self.H,np.matmul(grad_previous,self.V.T)),axis = 1)\n",
        "        t4 = np.multiply(t3,self.H)\n",
        "        t5 = np.multiply(self.H, np.matmul(grad_previous,self.V.T)) - t4\n",
        "        self.grad_Wq = (1/np.sqrt(self.d_k)) * np.matmul(np.matmul(self.X.T,t5),self.K)\n",
        "\n",
        "\n",
        "        # Add L1 and L2 and elastic regularization terms\n",
        "        # if self.reg == 'l1':\n",
        "        #   self.grad_theta += self.reg_penelty * np.sign(self.Theta)\n",
        "        #   self.grad_bias += self.reg_penelty * np.sign(self.bias)\n",
        "        #   self.grad_theta += self.reg_penelty * np.sign(self.Theta)\n",
        "\n",
        "        # elif self.reg == 'l2':\n",
        "        #   self.grad_theta += 2 * self.reg_penelty * self.Theta\n",
        "        #   self.grad_bias += 2 * self.reg_penelty * self.bias\n",
        "        #   self.grad_theta += self.reg_penelty * np.sign(self.Theta)\n",
        "\n",
        "        # elif self.reg == 'elastic':\n",
        "        #   self.grad_theta += self.reg_penelty * (0.5 * np.sign(self.Theta) + 0.5 * self.Theta)\n",
        "        #   self.grad_bias += self.reg_penelty * (0.5 * np.sign(self.bias) + 0.5 * self.bias)\n",
        "        #   self.grad_theta += self.reg_penelty * np.sign(self.Theta)\n",
        "\n",
        "        return 0\n",
        "\n",
        "    def applying_sgd(self,batch_size = 1):\n",
        "        # print(self.grad_Wk[0][0])\n",
        "        # print(self.W_K[0][0])\n",
        "        self.W_K -=  self.alpha * self.grad_Wk / batch_size\n",
        "        # print(self.W_K[0][0])\n",
        "        self.W_Q -=  self.alpha * self.grad_Wq / batch_size\n",
        "        self.W_V -=  self.alpha * self.grad_Wv / batch_size\n",
        "        \n",
        "        # self.grad_Wk =  np.zeros_like(self.grad_Wk)\n",
        "        # self.grad_Wq =  np.zeros_like(self.grad_Wq)\n",
        "        # self.grad_Wv =  np.zeros_like(self.grad_Wv)\n",
        "\n",
        "    def applying_adam(self,batch_size = 1):\n",
        "        self.W_K =  self.optimizer_Wk.update(self.grad_Wk / batch_size)        \n",
        "        self.W_Q =  self.optimizer_Wq.update(self.grad_Wq / batch_size)\n",
        "        self.W_V =  self.optimizer_Wv.update(self.grad_Wv / batch_size)\n",
        "        \n",
        "        self.grad_Wk =  np.zeros_like(self.grad_Wk)\n",
        "        self.grad_Wq =  np.zeros_like(self.grad_Wq)\n",
        "        self.grad_Wv =  np.zeros_like(self.grad_Wv)\n",
        "\n",
        "\n",
        "    def change_alpha(self):\n",
        "        self.alpha = self.alpha/5\n",
        "\n",
        "    def saving_params(self):\n",
        "        np.savez(f'/content/drive/MyDrive/Colab Notebooks/Saved_Models/Linear_layer{self.index}.npz',arr1 = self.Theta, arr2 = self.bias)"
      ]
    },
    {
      "cell_type": "code",
      "execution_count": 174,
      "metadata": {
        "id": "GTlMSt7ChaJZ"
      },
      "outputs": [],
      "source": [
        "# Implementing Image Tokenisation:\n",
        "def image_tokenization(images, patch_size):\n",
        "    num_images, image_height, image_width, channels = images.shape\n",
        "\n",
        "    # Initialize an array to store the flattened patches\n",
        "    patches_dataset = []\n",
        "\n",
        "    # Extract patches for each image\n",
        "    for i in range(num_images):\n",
        "        image = images[i]\n",
        "        patches_image = []\n",
        "        for h in range(0, image_height-patch_size+1, patch_size):\n",
        "            for w in range(0, image_width-patch_size+1, patch_size):\n",
        "                # Define patch\n",
        "                patch = image[h:h+patch_size, w:w+patch_size, :].copy().reshape(-1)\n",
        "                patches_image.append(patch)\n",
        "\n",
        "        patches_dataset.append(patches_image)\n",
        "    return np.array(patches_dataset)"
      ]
    },
    {
      "cell_type": "code",
      "execution_count": 226,
      "metadata": {},
      "outputs": [],
      "source": [
        "\n",
        "\n",
        "import numpy as np\n",
        "\n",
        "def positional_encoding(data):\n",
        "    n_images, n_patches, n_features = data.shape\n",
        "\n",
        "    position = np.arange(n_features)\n",
        "    freqs = 1 / (10000 ** (2 * np.arange(n_features) / n_features))\n",
        "\n",
        "    sin_encoding = np.sin(position[:n_features // 2] * freqs[:n_features // 2])\n",
        "    cos_encoding = np.cos(position[n_features // 2:] * freqs[n_features // 2:])\n",
        "\n",
        "    encoding = np.concatenate([sin_encoding, cos_encoding], axis=0)\n",
        "\n",
        "    # Expand dimensions of encoding to match data shape\n",
        "    encoding = np.expand_dims(encoding, axis=(0, 1))\n",
        "\n",
        "    # Add encoding to data using broadcasting\n",
        "    encoded_data = data + encoding\n",
        "\n",
        "    return encoded_data\n",
        "\n",
        "\n"
      ]
    },
    {
      "cell_type": "code",
      "execution_count": 219,
      "metadata": {},
      "outputs": [],
      "source": [
        "import numpy as np\n",
        "\n",
        "def PCA(X, n_components):\n",
        "    # Standardize the data\n",
        "    X_std = (X - np.mean(X, axis=0)) #/ np.std(X, axis=0)\n",
        "    \n",
        "    # Compute the covariance matrix efficiently\n",
        "    cov_matrix = np.cov(X_std, rowvar=False)\n",
        "    \n",
        "    # Compute the eigenvalues and eigenvectors\n",
        "    eigenvalues, eigenvectors = np.linalg.eigh(cov_matrix)\n",
        "    \n",
        "    # Sort eigenvectors based on eigenvalues\n",
        "    idx = np.argsort(eigenvalues)[::-1]\n",
        "    eigenvectors = eigenvectors[:, idx]\n",
        "    \n",
        "    # Choose the top n_components eigenvectors\n",
        "    top_eigenvectors = eigenvectors[:, :n_components]\n",
        "\n",
        "    # Project data onto the selected eigenvectors\n",
        "    transformed_data = np.dot(X_std, top_eigenvectors)\n",
        "    \n",
        "    return transformed_data"
      ]
    },
    {
      "cell_type": "code",
      "execution_count": 216,
      "metadata": {},
      "outputs": [],
      "source": [
        "x_train = x_train / 255.0\n",
        "x_test = x_test / 255.0\n",
        "x_val = x_val / 255.0"
      ]
    },
    {
      "cell_type": "code",
      "execution_count": 221,
      "metadata": {},
      "outputs": [
        {
          "name": "stdout",
          "output_type": "stream",
          "text": [
            "train_pca_success\n",
            "test_pca_success\n",
            "val_pca_success\n",
            "PCA train shape: (13097, 64, 100)\n",
            "PCA test shape: (10468, 64, 100)\n",
            "PCA val shape: (1000, 64, 100)\n"
          ]
        }
      ],
      "source": [
        "n_component = 100\n",
        "limit = 1000\n",
        "\n",
        "x_train_flat = image_tokenization(x_train,16)\n",
        "x_test_flat = image_tokenization(x_test,16)\n",
        "x_val_flat = image_tokenization(x_val[:limit],16)\n",
        "\n",
        "\n",
        "x_train_pca = np.zeros((x_train_flat.shape[0],x_train_flat.shape[1],n_component))\n",
        "x_test_pca  = np.zeros((x_test_flat.shape[0] ,x_test_flat.shape[1],n_component))\n",
        "x_val_pca   = np.zeros((x_val_flat.shape[0]  ,x_val_flat.shape[1],n_component))\n",
        "\n",
        "for i,img in enumerate(x_train_flat):\n",
        "    x_train_pca[i] = PCA(X = img,n_components = n_component)\n",
        "    \n",
        "print(\"train_pca_success\")\n",
        "    \n",
        "for i,img in enumerate(x_test_flat):\n",
        "    x_test_pca[i] = PCA(X = img,n_components = n_component)\n",
        "\n",
        "print(\"test_pca_success\")\n",
        "\n",
        "    \n",
        "for i,img in enumerate(x_val_flat):\n",
        "    x_val_pca[i] = PCA(X = img,n_components = n_component)\n",
        "\n",
        "print(\"val_pca_success\")\n",
        "\n",
        "\n",
        "\n",
        "print(f\"PCA train shape: {x_train_pca.shape}\")\n",
        "print(f\"PCA test shape: {x_test_pca.shape}\")\n",
        "print(f\"PCA val shape: {x_val_pca.shape}\")"
      ]
    },
    {
      "cell_type": "code",
      "execution_count": 227,
      "metadata": {},
      "outputs": [
        {
          "name": "stdout",
          "output_type": "stream",
          "text": [
            "Encoded train shape: (13097, 64, 100)\n",
            "Encoded test shape: (10468, 64, 100)\n",
            "Encoded validation shape: (1000, 64, 100)\n"
          ]
        }
      ],
      "source": [
        "x_train_encoded = positional_encoding(x_train_pca)\n",
        "print(f\"Encoded train shape: {x_train_encoded.shape}\")\n",
        "\n",
        "x_test_encoded = positional_encoding(x_test_pca)\n",
        "print(f\"Encoded test shape: {x_test_encoded.shape}\")\n",
        "\n",
        "x_val_encoded = positional_encoding(x_val_pca)\n",
        "print(f\"Encoded validation shape: {x_val_encoded.shape}\")"
      ]
    },
    {
      "cell_type": "code",
      "execution_count": 336,
      "metadata": {},
      "outputs": [],
      "source": [
        "complete_NN = Neural_Network([\n",
        "    self_attention(d = n_component,d_k = 64, alpha = 0.1),\n",
        "    reshape(),\n",
        "    Linear_Layer(4096,784, alpha = 0.1),\n",
        "    LeakyReLU(),\n",
        "    Linear_Layer(784,256, alpha = 0.1),\n",
        "    LeakyReLU(),\n",
        "    Linear_Layer(256,64, alpha = 0.1),\n",
        "    LeakyReLU(),\n",
        "    Linear_Layer(64,10, alpha = 0.1),\n",
        "    LeakyReLU(),\n",
        "    softmax(10)\n",
        "])\n"
      ]
    },
    {
      "cell_type": "code",
      "execution_count": 338,
      "metadata": {},
      "outputs": [
        {
          "name": "stdout",
          "output_type": "stream",
          "text": [
            "EPOCH 1 \t Train Accuracy is : 18.299839657936932\n",
            "EPOCH 2 \t Train Accuracy is : 18.326614931626448\n",
            "EPOCH 3 \t Train Accuracy is : 18.401783612062257\n",
            "EPOCH 4 \t Train Accuracy is : 18.46382859547044\n",
            "EPOCH 5 \t Train Accuracy is : 18.481942574931242\n"
          ]
        }
      ],
      "source": [
        "ce = cross_entropy()\n",
        "epochs = 5\n",
        "batch = 1\n",
        "\n",
        "train_loss = []\n",
        "val_loss = []\n",
        "\n",
        "for e in range(epochs):\n",
        "  loss = 0\n",
        "  predictions = []\n",
        "  for i,img in enumerate(x_train_encoded[:]):\n",
        "    probs = complete_NN.forward_pass(img)\n",
        "    predictions.append(np.argmax(probs))\n",
        "    loss += ce.loss(probs,y_train[i])\n",
        "    complete_NN.backprop(y_train[i])\n",
        "    \n",
        "    # if (i+1) % batch == 0 or (i+1) == x_train_encoded.shape[0]:\n",
        "    complete_NN.applying_sgd(batch)\n",
        "\n",
        "  print(f\"EPOCH {e+1} \\t Train Accuracy is : {np.mean(predictions == y_train[:x_train_encoded[:].shape[0]])*100}\")\n",
        "  # print(f\"Loss is : {loss / x_train_encoded.shape[0]}\")\n",
        "  \n",
        "  train_preds = []\n",
        "  val_preds = []\n",
        "  t_loss = 0\n",
        "  v_loss = 0\n",
        "  \n",
        "  \n",
        "  \n",
        "  for i in range(limit):\n",
        "    train_probs = complete_NN.forward_pass(x_train_encoded[i])\n",
        "    val_probs = complete_NN.forward_pass(x_val_encoded[i])\n",
        "    \n",
        "    train_preds.append(np.argmax(train_probs))\n",
        "    t_loss += ce.loss(train_probs,y_train[i])\n",
        "    \n",
        "    val_preds.append(np.argmax(val_probs))\n",
        "    v_loss += ce.loss(val_probs,y_val[i])\n",
        "    \n",
        "  train_loss.append(t_loss/limit)\n",
        "  val_loss.append(v_loss/limit)\n",
        "    "
      ]
    },
    {
      "cell_type": "code",
      "execution_count": 353,
      "metadata": {},
      "outputs": [
        {
          "data": {
            "image/png": "[encoded data removed]",
            "text/plain": [
              "<Figure size 640x480 with 1 Axes>"
            ]
          },
          "metadata": {},
          "output_type": "display_data"
        }
      ],
      "source": [
        "epochs_list = range(1, len(train_loss) + 1)\n",
        "\n",
        "# Plotting\n",
        "plt.plot(epochs_list, train_loss, 'b', label='Train Loss')\n",
        "plt.plot(epochs_list, val_loss, 'r', label='Validation Loss')\n",
        "plt.title('Training and Validation Loss')\n",
        "plt.xlabel('Epochs')\n",
        "plt.ylabel('Loss')\n",
        "plt.legend()\n",
        "plt.show()"
      ]
    },
    {
      "cell_type": "code",
      "execution_count": 354,
      "metadata": {
        "colab": {
          "base_uri": "https://localhost:8080/",
          "height": 348
        },
        "id": "NYz11wDIZBiy",
        "outputId": "9df90a15-08cc-4670-a43e-49bb68357201"
      },
      "outputs": [
        {
          "name": "stdout",
          "output_type": "stream",
          "text": [
            "Test Accuracy is : 18.58043561329767\n"
          ]
        }
      ],
      "source": [
        "test_predictions = []\n",
        "for i in x_test_encoded:\n",
        "    test_probs = complete_NN.forward_pass(i)\n",
        "    test_predictions.append(np.argmax(test_probs))\n",
        "\n",
        "print(f\"Test Accuracy is : {np.mean(test_predictions == y_test)*100}\")\n"
      ]
    },
    {
      "cell_type": "code",
      "execution_count": 355,
      "metadata": {},
      "outputs": [],
      "source": [
        "def confusion_matrix(predicted,actual,n_classes):\n",
        "  conf_mat = np.zeros((n_classes, n_classes))\n",
        "  for i in range(len(predicted)):\n",
        "    conf_mat[int(actual[i])][int(predicted[i])] = conf_mat[int(actual[i])][int(predicted[i])] + 1\n",
        "\n",
        "  return conf_mat"
      ]
    }
  ],
  "metadata": {
    "colab": {
      "provenance": []
    },
    "kernelspec": {
      "display_name": "Python 3",
      "name": "python3"
    },
    "language_info": {
      "codemirror_mode": {
        "name": "ipython",
        "version": 3
      },
      "file_extension": ".py",
      "mimetype": "text/x-python",
      "name": "python",
      "nbconvert_exporter": "python",
      "pygments_lexer": "ipython3",
      "version": "3.12.2"
    }
  },
  "nbformat": 4,
  "nbformat_minor": 0
}
