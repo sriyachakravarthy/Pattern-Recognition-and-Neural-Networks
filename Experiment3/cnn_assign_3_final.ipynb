{
 "cells": [
  {
   "cell_type": "code",
   "execution_count": 1,
   "metadata": {},
   "outputs": [],
   "source": [
    "import numpy as np\n",
    "import matplotlib.pyplot as plt\n",
    "import os\n",
    "import zipfile\n",
    "from tqdm import tqdm\n",
    "from PIL import Image"
   ]
  },
  {
   "cell_type": "code",
   "execution_count": 2,
   "metadata": {},
   "outputs": [],
   "source": [
    "# ! pip install kaggle"
   ]
  },
  {
   "cell_type": "code",
   "execution_count": 3,
   "metadata": {},
   "outputs": [],
   "source": [
    "\n",
    "# !mkdir -p ~/.kaggle\n",
    "# !cp kaggle.json ~/.kaggle/\n",
    "# !chmod 600 ~/.kaggle/kaggle.json"
   ]
  },
  {
   "cell_type": "markdown",
   "metadata": {},
   "source": [
    "keep ur kaggle kaggle.json file in vscode-remote://ssh-remote%2B10.192.12.61/home/prashantc/.kaggle"
   ]
  },
  {
   "cell_type": "code",
   "execution_count": 4,
   "metadata": {},
   "outputs": [],
   "source": [
    "# !kaggle datasets download -d alessiocorrado99/animals10 \n"
   ]
  },
  {
   "cell_type": "code",
   "execution_count": 5,
   "metadata": {},
   "outputs": [],
   "source": [
    "# zip_file_path = '/home/jyotishr/PRNN_ASS_3/animals10.zip'\n",
    "\n",
    "# # Create a directory to extract the files\n",
    "# extract_dir = '/home/jyotishr/PRNN_ASS_3/Dataset'\n",
    "# os.makedirs(extract_dir, exist_ok=True)\n",
    "\n",
    "# # Extract files from the ZIP archive\n",
    "# with zipfile.ZipFile(zip_file_path, 'r') as zip_ref:\n",
    "#     for member in tqdm(zip_ref.infolist(), desc='Extracting files'):\n",
    "#         zip_ref.extract(member, extract_dir)"
   ]
  },
  {
   "cell_type": "code",
   "execution_count": 6,
   "metadata": {},
   "outputs": [],
   "source": [
    "def load_dataset(directory, image_size=(128, 128)):\n",
    "    data = []\n",
    "    labels = []\n",
    "    label_mapping = {'cane': 0, 'cavallo': 1, 'elefante': 2, 'farfalla': 3, 'gallina': 4, 'gatto': 5, 'mucca': 6, 'pecora': 7, 'ragno': 8, 'scoiattolo': 9}\n",
    "\n",
    "    for root, dirs, files in os.walk(directory):\n",
    "        for file in tqdm(files):\n",
    "            if file.endswith((\".jpg\", \".png\" ,\".jpeg\")):\n",
    "                image_path = os.path.join(root, file)\n",
    "                label = os.path.basename(os.path.normpath(root))\n",
    "                if label in label_mapping:\n",
    "                    image = Image.open(image_path).convert('RGB')\n",
    "                    image = image.resize(image_size)\n",
    "                    image = np.array(image)\n",
    "                    data.append(image)\n",
    "                    labels.append(label_mapping[label])\n",
    "\n",
    "    data = np.array(data)\n",
    "    labels = np.array(labels)\n",
    "    return data, labels\n"
   ]
  },
  {
   "cell_type": "code",
   "execution_count": null,
   "metadata": {},
   "outputs": [],
   "source": []
  },
  {
   "cell_type": "code",
   "execution_count": 7,
   "metadata": {},
   "outputs": [
    {
     "name": "stderr",
     "output_type": "stream",
     "text": [
      "0it [00:00, ?it/s]\n",
      "  0%|          | 0/1668 [00:00<?, ?it/s]"
     ]
    },
    {
     "name": "stderr",
     "output_type": "stream",
     "text": [
      "100%|██████████| 1668/1668 [00:13<00:00, 126.47it/s]\n",
      "100%|██████████| 3098/3098 [00:07<00:00, 417.38it/s]\n",
      "100%|██████████| 1862/1862 [00:03<00:00, 466.33it/s]\n",
      "100%|██████████| 1820/1820 [00:06<00:00, 280.56it/s]\n",
      "100%|██████████| 2623/2623 [00:06<00:00, 428.99it/s]\n",
      "100%|██████████| 2112/2112 [00:07<00:00, 279.45it/s]\n",
      "100%|██████████| 1866/1866 [00:04<00:00, 435.92it/s]\n",
      "100%|██████████| 1446/1446 [00:05<00:00, 255.60it/s]\n",
      "100%|██████████| 4821/4821 [00:14<00:00, 336.87it/s]\n",
      "100%|██████████| 4863/4863 [00:10<00:00, 446.85it/s]\n"
     ]
    }
   ],
   "source": [
    "# Load the dataset\n",
    "data_dir = '/home/jyotishr/PRNN_ASS_3/Dataset/raw-img'\n",
    "data, labels = load_dataset(data_dir)\n",
    "\n",
    "# Shuffle the data and labels together\n",
    "# rng = np.random.RandomState(42)  # Set a (os, numpy, PIL, and tqdm) random seed for reproducibility\n",
    "# permutation = rng.permutation(len(data))\n",
    "# data = data[permutation]\n",
    "# labels = labels[permutation]\n",
    "\n",
    "# num_samples = len(data)\n",
    "# train_ratio = 0.6\n",
    "# val_ratio = 0.1\n",
    "# test_ratio = 0.3\n",
    "\n",
    "# # Calculate the sizes for each set\n",
    "# train_size = int(num_samples * train_ratio)\n",
    "# val_size = int(num_samples * val_ratio)\n",
    "# test_size = num_samples - train_size - val_size\n",
    "\n",
    "# # Split the data into train, validation, and test sets\n",
    "# x_train, x_val, x_test = data[:train_size], data[train_size:train_size+val_size], data[train_size+val_size:]\n",
    "# y_train, y_val, y_test = labels[:train_size], labels[train_size:train_size+val_size], labels[train_size+val_size:]\n"
   ]
  },
  {
   "cell_type": "code",
   "execution_count": 8,
   "metadata": {},
   "outputs": [
    {
     "name": "stdout",
     "output_type": "stream",
     "text": [
      "Train set: (15717, 128, 128, 3) (15717,)\n",
      "Validation set: (2614, 128, 128, 3) (2614,)\n",
      "Test set: (7848, 128, 128, 3) (7848,)\n"
     ]
    }
   ],
   "source": [
    "def balanced_split(x, y, test_size=0.3, val_size=0.1, random_state=None):\n",
    "    # Find unique classes\n",
    "    classes = np.unique(y)\n",
    "    # Initialize arrays to hold indices for each class\n",
    "    class_indices = {c: np.where(y == c)[0] for c in classes}\n",
    "    \n",
    "    # Split each class's indices into train, validation, and test sets\n",
    "    train_indices = []\n",
    "    val_indices = []\n",
    "    test_indices = []\n",
    "    for c in classes:\n",
    "        indices = class_indices[c]\n",
    "        np.random.seed(random_state)\n",
    "        np.random.shuffle(indices)\n",
    "        test_count = int(len(indices) * test_size)\n",
    "        val_count = int(len(indices) * val_size)\n",
    "        \n",
    "        test_indices.extend(indices[:test_count])\n",
    "        val_indices.extend(indices[test_count:test_count + val_count])\n",
    "        train_indices.extend(indices[test_count + val_count:])\n",
    "    \n",
    "    # Shuffle the indices to mix the classes\n",
    "    np.random.seed(random_state)\n",
    "    np.random.shuffle(train_indices)\n",
    "    np.random.shuffle(val_indices)\n",
    "    np.random.shuffle(test_indices)\n",
    "    \n",
    "    # Use the indices to split the data\n",
    "    x_train, y_train = x[train_indices], y[train_indices]\n",
    "    x_val, y_val = x[val_indices], y[val_indices]\n",
    "    x_test, y_test = x[test_indices], y[test_indices]\n",
    "    \n",
    "    return x_train, x_val, x_test, y_train, y_val, y_test\n",
    "\n",
    "# Splitting data\n",
    "x_train, x_val, x_test, y_train, y_val, y_test = balanced_split(data, labels)\n",
    "\n",
    "# Printing the shapes of the datasets to verify the split\n",
    "print(\"Train set:\", x_train.shape, y_train.shape)\n",
    "print(\"Validation set:\", x_val.shape, y_val.shape)\n",
    "print(\"Test set:\", x_test.shape, y_test.shape)"
   ]
  },
  {
   "cell_type": "code",
   "execution_count": 9,
   "metadata": {},
   "outputs": [
    {
     "data": {
      "text/plain": [
       "(15717, 128, 128, 3)"
      ]
     },
     "execution_count": 9,
     "metadata": {},
     "output_type": "execute_result"
    }
   ],
   "source": [
    "x_train.shape"
   ]
  },
  {
   "cell_type": "code",
   "execution_count": 10,
   "metadata": {},
   "outputs": [],
   "source": [
    "x_train = (x_train / 255.0) - 0.5\n",
    "x_val = (x_val / 255.0) - 0.5\n",
    "x_test = (x_test / 255.0) - 0.5"
   ]
  },
  {
   "cell_type": "code",
   "execution_count": 11,
   "metadata": {},
   "outputs": [
    {
     "name": "stderr",
     "output_type": "stream",
     "text": [
      "Clipping input data to the valid range for imshow with RGB data ([0..1] for floats or [0..255] for integers).\n"
     ]
    },
    {
     "data": {
      "image/png": "[encoded data removed]",
      "text/plain": [
       "<Figure size 640x480 with 1 Axes>"
      ]
     },
     "metadata": {},
     "output_type": "display_data"
    }
   ],
   "source": [
    "import matplotlib.pyplot as plt\n",
    "f = x_train[3]\n",
    "# Assuming data is a 128x128x3 array representing an image\n",
    "plt.imshow(f,cmap='gray')\n",
    "plt.show()\n"
   ]
  },
  {
   "cell_type": "code",
   "execution_count": 12,
   "metadata": {},
   "outputs": [],
   "source": [
    "x_train = np.transpose(x_train, (0, 3, 1, 2))\n",
    "x_test = np.transpose(x_test, (0, 3, 1, 2))\n",
    "x_val = np.transpose(x_val, (0, 3, 1, 2))"
   ]
  },
  {
   "cell_type": "code",
   "execution_count": 15,
   "metadata": {},
   "outputs": [
    {
     "data": {
      "image/png": "[encoded data removed]",
      "text/plain": [
       "<Figure size 400x200 with 1 Axes>"
      ]
     },
     "metadata": {},
     "output_type": "display_data"
    }
   ],
   "source": [
    "unique_classes, class_counts = np.unique(labels, return_counts=True)\n",
    "\n",
    "# Plotting\n",
    "plt.figure(figsize=(4, 2))\n",
    "plt.bar(unique_classes, class_counts, color='blue')\n",
    "plt.title('Frequency of Classes')\n",
    "plt.xlabel('Classes')\n",
    "plt.ylabel('Frequency')\n",
    "plt.xticks(rotation=45)  # Rotate x-axis labels for better readability\n",
    "plt.show()"
   ]
  },
  {
   "cell_type": "code",
   "execution_count": 16,
   "metadata": {},
   "outputs": [],
   "source": [
    "class Neural_Network:\n",
    "\n",
    "    def __init__(self, Network):\n",
    "        self.Network = Network\n",
    "\n",
    "    # forward pass\n",
    "    def forward_pass(self, X):\n",
    "        n = X\n",
    "        for i in self.Network:\n",
    "            n = i.forward_pass(n,saved_weights = None)\n",
    "        return n\n",
    "\n",
    "    #backward pass\n",
    "    def backprop(self, Y):\n",
    "        m = Y\n",
    "        for i in (reversed(self.Network)):\n",
    "            m = i.backprop(m)\n",
    "\n",
    "    # applying sgd\n",
    "    def applying_sgd(self):\n",
    "        for i in self.Network:\n",
    "            i.applying_sgd()\n",
    "\n",
    "    # applying adam\n",
    "    def applying_adam(self):\n",
    "        for i in self.Network:\n",
    "            i.applying_adam()\n",
    "\n",
    "    # changing alpha\n",
    "    def change_alpha(self):\n",
    "        for i in self.Network:\n",
    "            i.change_alpha()\n",
    "\n",
    "    # saving weights\n",
    "    def saving_params(self):\n",
    "        for i,layer in enumerate(self.Network):\n",
    "            layer.saving_params()\n",
    "\n",
    "    # predicting after loading weights\n",
    "    def predict(self,X):\n",
    "        n = X\n",
    "        for i in self.Network:\n",
    "            n = i.forward_pass(n,saved_weights = 1)\n",
    "        return n"
   ]
  },
  {
   "cell_type": "code",
   "execution_count": 17,
   "metadata": {},
   "outputs": [],
   "source": [
    "class Adam:\n",
    "    def __init__(self, lr=0.001, beta1=0.9, beta2=0.999, epsilon=1e-8):\n",
    "        self.lr = lr\n",
    "        self.beta1 = beta1\n",
    "        self.beta2 = beta2\n",
    "        self.epsilon = epsilon\n",
    "        self.m = None\n",
    "        self.v = None\n",
    "        self.t = 0\n",
    "\n",
    "    def update(self, grads):\n",
    "        if self.m is None:\n",
    "            self.m = np.zeros_like(grads)\n",
    "            self.v = np.zeros_like(grads)\n",
    "\n",
    "        self.t += 1\n",
    "        self.m = self.beta1 * self.m + (1 - self.beta1) * grads\n",
    "        self.v = self.beta2 * self.v + (1 - self.beta2) * (grads ** 2)\n",
    "        m_hat = self.m / (1 - self.beta1 ** self.t)\n",
    "        v_hat = self.v / (1 - self.beta2 ** self.t)\n",
    "        return self.lr * m_hat / (np.sqrt(v_hat) + self.epsilon)"
   ]
  },
  {
   "cell_type": "code",
   "execution_count": 18,
   "metadata": {},
   "outputs": [],
   "source": [
    "class accuracy:\n",
    "    def __init__(self):\n",
    "        pass\n",
    "\n",
    "    def value(self, out, Y):\n",
    "        self.out = np.argmax(out, axis=1)\n",
    "        return np.mean(self.out == Y)"
   ]
  },
  {
   "cell_type": "code",
   "execution_count": 20,
   "metadata": {},
   "outputs": [],
   "source": [
    "class reshaping:\n",
    "\n",
    "    def __init__(self):\n",
    "        pass\n",
    "\n",
    "    def forward_pass(self, data, saved_weights = None):\n",
    "        self.data_shape = data.shape\n",
    "\n",
    "        self.flatten = data.reshape(self.data_shape[0], self.data_shape[1]*self.data_shape[2]*self.data_shape[3])\n",
    "        # print(self.flatten.shape)\n",
    "        return self.flatten\n",
    "\n",
    "    def backprop(self, prev_data):\n",
    "        return prev_data.reshape(self.data_shape[0], self.data_shape[1], self.data_shape[2], self.data_shape[3])\n",
    "\n",
    "    def applying_sgd(self):\n",
    "        pass\n",
    "\n",
    "    def change_alpha(self):\n",
    "        pass\n",
    "\n",
    "    def applying_adam(self):\n",
    "        pass\n",
    "\n",
    "    def saving_params(self):\n",
    "        pass"
   ]
  },
  {
   "cell_type": "code",
   "execution_count": 21,
   "metadata": {},
   "outputs": [],
   "source": [
    "class cross_entropy:\n",
    "\n",
    "    def _init_(self):\n",
    "        pass\n",
    "\n",
    "    def loss(self, A, Y):\n",
    "\n",
    "        epsilon = 1e-15  # Small value to prevent division by zero\n",
    "\n",
    "        # Compute cross-entropy loss\n",
    "        m = Y.shape[0]  # Number of examples\n",
    "        ce_loss = -np.sum(np.log(A[np.arange(m), Y] + epsilon)) / m\n",
    "\n",
    "        return ce_loss"
   ]
  },
  {
   "cell_type": "code",
   "execution_count": 22,
   "metadata": {},
   "outputs": [],
   "source": [
    "class softmax:\n",
    "\n",
    "    def __init__(self):\n",
    "        pass\n",
    "\n",
    "    def expansion(self, actual_pred):\n",
    "        d = actual_pred.shape[0]\n",
    "        one_hot_pred = np.zeros((d,self.n_classes))\n",
    "        for i in range(0,d):\n",
    "            one_hot_pred[i,actual_pred[i]] = 1\n",
    "        return one_hot_pred\n",
    "\n",
    "    def forward_pass(self, z, saved_weights = None):\n",
    "\n",
    "        self.n_classes = z.shape[1]\n",
    "        # vectorised form below\n",
    "        shiftx = z - np.max(z, axis=1, keepdims=True)\n",
    "\n",
    "        # Exponentiate the shifted values\n",
    "        exps = np.exp(shiftx)\n",
    "\n",
    "        # Calculate softmax probabilities\n",
    "        self.softmax_probs = exps / np.sum(exps, axis=1, keepdims=True)\n",
    "\n",
    "        return self.softmax_probs\n",
    "\n",
    "        # self.a = np.zeros_like(z)\n",
    "        # \"\"\"Compute the softmax of vector x in a numerically stable way.\"\"\"\n",
    "        # for i,x in enumerate(z):\n",
    "        #   shiftx = x - np.max(x)\n",
    "        #   exps = np.exp(shiftx)\n",
    "        #   self.a[i] = exps / np.sum(exps)\n",
    "        # return self.a\n",
    "\n",
    "    def backprop(self, Y):\n",
    "        y = self.expansion(Y)\n",
    "        self.grad = (self.softmax_probs - y)\n",
    "        # print(\"soft\")\n",
    "        # print(self.grad[0][0])\n",
    "        return self.grad\n",
    "\n",
    "\n",
    "    def applying_sgd(self):\n",
    "        pass\n",
    "\n",
    "    def change_alpha(self):\n",
    "        pass\n",
    "\n",
    "    def applying_adam(self):\n",
    "        pass\n",
    "\n",
    "    def saving_params(self):\n",
    "        pass"
   ]
  },
  {
   "cell_type": "code",
   "execution_count": 23,
   "metadata": {},
   "outputs": [],
   "source": [
    "class relu:\n",
    "    def __init__(self):\n",
    "        pass\n",
    "\n",
    "    def forward_pass(self, z, saved_weights = None):\n",
    "        self.z = z\n",
    "        return np.maximum(0, z)\n",
    "\n",
    "    def derivative(self, a):\n",
    "        return np.where(a > 0, 1, 0)\n",
    "\n",
    "    def backprop(self, grad_previous):\n",
    "        # print(\"relu\")\n",
    "        \n",
    "        # print(self.z[0,0,0,0],(grad_previous * self.derivative(self.z))[0,0,0,0])\n",
    "        return grad_previous * self.derivative(self.z)\n",
    "\n",
    "    def applying_sgd(self):\n",
    "        pass\n",
    "\n",
    "    def change_alpha(self):\n",
    "        pass\n",
    "\n",
    "    def applying_adam(self):\n",
    "        pass\n",
    "\n",
    "    def saving_params(self):\n",
    "        pass"
   ]
  },
  {
   "cell_type": "code",
   "execution_count": 24,
   "metadata": {},
   "outputs": [],
   "source": [
    "class pooling:\n",
    "    def __init__(self, pool_size=(2, 2), strides=None):\n",
    "        self.pool_height, self.pool_width = pool_size\n",
    "        if strides is None:\n",
    "            self.strides = pool_size\n",
    "        else:\n",
    "            self.strides = strides\n",
    "\n",
    "    def forward_pass(self, input_data, saved_weights = None):\n",
    "        self.input_data = input_data\n",
    "        self.input_data_shape = input_data.shape\n",
    "        batch_size, input_channels, input_height, input_width = input_data.shape\n",
    "        output_height = (input_height - self.pool_height) // self.strides[0] + 1\n",
    "        output_width = (input_width - self.pool_width) // self.strides[1] + 1\n",
    "        self.output = np.zeros((batch_size, input_channels, output_height, output_width))\n",
    "\n",
    "        for i in range(output_height):\n",
    "            for j in range(output_width):\n",
    "                self.output[:,:, i, j] = np.max(input_data[:, :, i*self.strides[0]:i*self.strides[0]+self.pool_height,\n",
    "                                            j*self.strides[1]:j*self.strides[1]+self.pool_width],axis = (2,3))\n",
    "\n",
    "        return self.output\n",
    "    \n",
    "    def backprop(self, grad_previous):\n",
    "        batch_size, input_channels, output_height, output_width = grad_previous.shape\n",
    "        grad_back = np.zeros(self.input_data_shape)\n",
    "\n",
    "        for i in range(self.output.shape[2]):\n",
    "          for j in range(self.output.shape[3]):\n",
    "\n",
    "            x_start = i*self.strides[0]\n",
    "            x_end = x_start + self.pool_height\n",
    "            y_start = j * self.strides[1]\n",
    "            y_end = y_start + self.pool_width\n",
    "            grad_back[:, :, x_start:x_end,y_start:y_end] = np.where(self.input_data[:, :, x_start:x_end,y_start:y_end] >= (self.output[:,:,i,j])[:,:,np.newaxis, np.newaxis],(grad_previous[:,:, i, j])[:,:,np.newaxis, np.newaxis],0)\n",
    "\n",
    "        # print(\"pool\")\n",
    "        # print(grad_back[0,0,0,0])\n",
    "        return grad_back\n",
    "\n",
    "    def applying_sgd(self):\n",
    "        pass\n",
    "\n",
    "    def change_alpha(self):\n",
    "        pass\n",
    "\n",
    "    def applying_adam(self):\n",
    "        pass\n",
    "\n",
    "    def saving_params(self):\n",
    "        pass\n",
    "\n"
   ]
  },
  {
   "cell_type": "code",
   "execution_count": 25,
   "metadata": {},
   "outputs": [],
   "source": [
    "class Linear_Layer:\n",
    "\n",
    "    def __init__(self, in_dim, out_dim, alpha = 0.01,index = 0,reg = None, reg_penelty = 0):\n",
    "        self.Theta = np.random.randn(in_dim, out_dim)/(in_dim * out_dim)\n",
    "        self.bias = np.zeros((out_dim,))\n",
    "        self.optimizer_theta = Adam(lr = alpha)\n",
    "        self.optimizer_bias = Adam(lr = alpha)\n",
    "        self.alpha = alpha\n",
    "        self.index = index\n",
    "        self.reg = reg\n",
    "        self.reg_penelty = reg_penelty\n",
    "\n",
    "\n",
    "    def forward_pass(self, X, saved_weights = None):\n",
    "        if saved_weights != None:\n",
    "          saved_data = np.load(f'/content/drive/MyDrive/Colab Notebooks/Saved_Models/Linear_layer{self.index}.npz')\n",
    "          self.Theta =  saved_data['arr1']\n",
    "          self.bias = saved_data['arr2']\n",
    "\n",
    "        self.X = X\n",
    "        # print(self.X.shape)\n",
    "        self.z = np.dot(X,self.Theta) + self.bias\n",
    "        return self.z\n",
    "\n",
    "\n",
    "    def backprop(self, grad_previous):\n",
    "        t= self.X.shape[0]\n",
    "        self.grad_theta = np.matmul((self.X.transpose()), grad_previous)\n",
    "        self.grad_bias = (grad_previous.sum(axis=0))/t\n",
    "        self.grad_back = np.matmul(grad_previous, self.Theta.transpose())\n",
    "\n",
    "        # Add L1 and L2 and elastic regularization terms\n",
    "        if self.reg == 'l1':\n",
    "          self.grad_theta += self.reg_penelty * np.sign(self.Theta)\n",
    "          self.grad_bias += self.reg_penelty * np.sign(self.bias)\n",
    "\n",
    "        elif self.reg == 'l2':\n",
    "          self.grad_theta += 2 * self.reg_penelty * self.Theta\n",
    "          self.grad_bias += 2 * self.reg_penelty * self.bias\n",
    "\n",
    "        elif self.reg == 'elastic':\n",
    "          self.grad_theta += self.reg_penelty * (0.5 * np.sign(self.Theta) + 0.5 * self.Theta)\n",
    "          self.grad_bias += self.reg_penelty * (0.5 * np.sign(self.bias) + 0.5 * self.bias)\n",
    "        # print('Linear_Layer')\n",
    "        # print(self.grad_back[0])\n",
    "        return self.grad_back\n",
    "\n",
    "    def applying_sgd(self):\n",
    "        self.Theta = self.Theta - (self.alpha*self.grad_theta)\n",
    "        self.bias = self.bias - (self.alpha*self.grad_bias)\n",
    "\n",
    "    def applying_adam(self):\n",
    "        self.Theta -= self.optimizer_theta.update(self.grad_theta)\n",
    "        self.bias -= self.optimizer_bias.update(self.grad_bias)\n",
    "\n",
    "    def change_alpha(self):\n",
    "        self.alpha = self.alpha/5\n",
    "\n",
    "    def saving_params(self):\n",
    "        np.savez(f'/content/drive/MyDrive/Colab Notebooks/Saved_Models/Linear_layer{self.index}.npz',arr1 = self.Theta, arr2 = self.bias)\n"
   ]
  },
  {
   "cell_type": "code",
   "execution_count": 96,
   "metadata": {},
   "outputs": [],
   "source": [
    "# import numpy as np\n",
    "\n",
    "# a = np.ones((10, 5, 26, 26))\n",
    "# b = np.ones((10,3,28,28))\n",
    "# e = np.ones((5,3,3,3))\n",
    "\n",
    "# dimen = int(((b.shape[2] - 3)/1) + 1)\n",
    "\n",
    "# for f in range(5):\n",
    "#   for c in range(b.shape[1]):\n",
    "#     for i in range(0, b.shape[2] - dimen + 1, 1):\n",
    "#         for j in range(0, b.shape[3] - dimen + 1, 1):\n",
    "#             print(np.sum(a[:,f,:,:] * b[:,c,i:i+dimen,j:j+dimen]))\n",
    "\n",
    "#           # e[f,c,i,j] = \n",
    "                \n",
    "\n",
    "# print(e)\n",
    "\n",
    "# # b_reshaped = b[:, :, np.newaxis]\n",
    "\n",
    "# # # Get the shape of 'a' excluding the last two dimensions\n",
    "# # a_shape = a.shape[:-2]\n",
    "\n",
    "# # for i in range(a_shape[2]):\n",
    "# #     for j in range(a_shape[3]):\n",
    "# #         a[:, :, i, j] = b_reshaped[:, :, 0]\n",
    "\n",
    "# # print(a)\n"
   ]
  },
  {
   "cell_type": "code",
   "execution_count": 26,
   "metadata": {},
   "outputs": [],
   "source": [
    "class Convolutional_Layer:\n",
    "    def __init__(self, filter_dim = 3, stride = 1, pad = 0, alpha=0.01, num_of_filters = 1,inp_chanels = 3, reg = None,reg_penelty = 0):\n",
    "        self.filter_dim = filter_dim\n",
    "        self.inp_chanels = inp_chanels\n",
    "        self.n_filters = num_of_filters\n",
    "        self.stride = stride\n",
    "        self.bias = np.random.randn(self.n_filters, 1) / self.n_filters\n",
    "        self.filter = np.random.randn(self.n_filters, self.inp_chanels, self.filter_dim, self.filter_dim)/((self.filter_dim ** 2) * self.inp_chanels)\n",
    "        self.pad = pad\n",
    "        self.alpha = alpha\n",
    "        self.optimizer_bias = Adam(lr = alpha)\n",
    "        self.optimizer_filter = Adam(lr = alpha)\n",
    "        self.reg_penelty = reg_penelty\n",
    "        self.reg = reg\n",
    "\n",
    "    def convolving(self, dimen_x, dimen_y):\n",
    "        p = self.X.shape[2]\n",
    "        q = self.X.shape[3]\n",
    "        z = np.zeros((self.X.shape[0],self.n_filters, dimen_x, dimen_y))\n",
    "        for i in range(0, p - self.filter_dim + 1, self.stride):\n",
    "              for j in range(0, q - self.filter_dim + 1, self.stride):\n",
    "                  temp = np.multiply(self.X[:, np.newaxis, :, i:i+self.filter_dim, j:j+self.filter_dim], self.filter)\n",
    "                  # print(\"Inside loop conv\")\n",
    "                  # print(temp[0,0,0,0,0])\n",
    "                  z[:,:,i,j] = np.sum(temp,axis=(2,3,4)) + self.bias[:,0]\n",
    "        \n",
    "        # print(\"Out conv\")\n",
    "        # print(z[0,0,0,0])          \n",
    "        return z\n",
    "\n",
    "\n",
    "    def forward_pass(self, X, saved_weights = None):\n",
    "        if saved_weights != None:\n",
    "          saved_data = np.load('/content/drive/MyDrive/Colab Notebooks/Saved_Models/conv2d.npz')\n",
    "          self.filter = saved_data['arr1']\n",
    "          self.bias = saved_data['arr2']\n",
    "\n",
    "        self.X = np.pad(X , ((0, 0), (0, 0), (self.pad, self.pad), (self.pad, self.pad)),'constant', constant_values=0)\n",
    "        (d, c, p, t) = self.X.shape\n",
    "        dimen_x = int(((p - self.filter_dim)/self.stride) + 1)\n",
    "        dimen_y = int(((t - self.filter_dim)/self.stride) + 1)\n",
    "        self.z = np.zeros((d, self.n_filters, dimen_x, dimen_y))\n",
    "        self.z = self.convolving(dimen_x, dimen_y)\n",
    "        # print(self.z.shape)\n",
    "        # print(\"forward_conv\")\n",
    "        # print(self.z[0,0,0,0])\n",
    "        return self.z\n",
    "\n",
    "    def backprop(self, grad_z):\n",
    "        (d, f, p, t) = grad_z.shape\n",
    "        # print(\"grad_z\")\n",
    "        # print(grad_z[0,0,0,0])\n",
    "        dimen_x = int(((self.X.shape[2] - self.filter_dim)/self.stride) + 1)\n",
    "        dimen_y = int(((self.X.shape[3] - self.filter_dim)/self.stride) + 1)\n",
    "        self.grads = np.zeros((d, p, t))\n",
    "\n",
    "        self.grad_filter = np.zeros((self.n_filters, self.inp_chanels, self.filter_dim, self.filter_dim))\n",
    "        grad_z = np.pad(grad_z, ((0,0),(0,0),(self.pad,self.pad),(self.pad,self.pad)), 'constant', constant_values = 0)\n",
    "\n",
    "        # for f in range(self.n_filters):\n",
    "        # # Iterate over each channel\n",
    "        #   for c in range(self.X.shape[1]):\n",
    "        #       # Extract the relevant portions of X and grad_z for this filter and channel\n",
    "        #       X_slice = self.X[:, c, :, :]\n",
    "        #       grad_z_slice = grad_z[:, f, :, :]\n",
    "              \n",
    "        #       # Compute the convolution\n",
    "        #       conv_grad = np.zeros_like(self.grad_filter[f, c, :, :])\n",
    "        #       for i in range(0, self.X.shape[2] - dimen_x + 1, self.stride):\n",
    "        #           for j in range(0, self.X.shape[3] - dimen_y + 1, self.stride):\n",
    "        #               conv_grad[i, j] = np.sum(grad_z_slice * X_slice[:, i:i+dimen_x, j:j+dimen_y])\n",
    "              \n",
    "        #       # Assign the computed gradients to the corresponding filter\n",
    "        #       self.grad_filter[f, c, :, :] = conv_grad\n",
    "        \n",
    "\n",
    "\n",
    "        for f in range(grad_z.shape[1]):\n",
    "          for c in range(self.X.shape[1]):\n",
    "            for i in range(0, self.X.shape[2] - dimen_x + 1, self.stride):\n",
    "                for j in range(0, self.X.shape[3] - dimen_y + 1, self.stride):\n",
    "                  # print(\"inside\")\n",
    "                  # print(grad_z[0,0,0,0],self.X[0,0,0,0])\n",
    "                  # print(np.sum(grad_z[:,f,:,:] * self.X[:,c,i:i+dimen_x,j:j+dimen_y]))\n",
    "                  self.grad_filter[f,c,i,j] = np.sum(grad_z[:,f,:,:] * self.X[:,c,i:i+dimen_x,j:j+dimen_y])\n",
    "        # print(\"HHHH\")\n",
    "        # print(self.grad_filter[0,0,0,0])\n",
    "        self.grad_filter = self.grad_filter /(grad_z.shape[0] * grad_z.shape[2]*grad_z.shape[3])\n",
    "\n",
    "        self.grad_bias = np.zeros_like(self.bias)\n",
    "\n",
    "        for k in range(self.n_filters):\n",
    "          self.grad_bias[k] = (grad_z[:,k].sum()) /(grad_z.shape[0] * grad_z.shape[2]*grad_z.shape[3])\n",
    "\n",
    "        # Add L1 and L2 and elastic regularization terms\n",
    "        if self.reg == 'l1':\n",
    "          self.grad_filter += self.reg_penelty * np.sign(self.filter)\n",
    "          self.grad_bias += self.reg_penelty * np.sign(self.bias)\n",
    "\n",
    "        elif self.reg == 'l2':\n",
    "          self.grad_filter += 2 * self.reg_penelty * self.filter\n",
    "          self.grad_bias += 2 * self.reg_penelty * self.bias\n",
    "\n",
    "        elif self.reg == 'elastic':\n",
    "          self.grad_filter += self.reg_penelty * (0.5 * np.sign(self.filter) + 0.5 * self.filter)\n",
    "          self.grad_bias += self.reg_penelty * (0.5 * np.sign(self.bias) + 0.5 * self.bias)\n",
    "\n",
    "        return self.grads\n",
    "\n",
    "    def applying_sgd(self):\n",
    "        self.filter = self.filter - (self.alpha*self.grad_filter)\n",
    "        self.bias = self.bias - (self.alpha*self.grad_bias)\n",
    "\n",
    "    def applying_adam(self):\n",
    "        self.filter -= self.optimizer_bias.update(self.grad_filter)\n",
    "        self.bias -= self.optimizer_filter.update(self.grad_bias)\n",
    "\n",
    "    def change_alpha(self):\n",
    "        self.alpha = self.alpha/5\n",
    "\n",
    "    def saving_params(self):\n",
    "        np.savez('/content/drive/MyDrive/Colab Notebooks/Saved_Models/conv2d.npz',arr1 = self.filter,arr2 = self.bias )"
   ]
  },
  {
   "cell_type": "code",
   "execution_count": 117,
   "metadata": {},
   "outputs": [],
   "source": [
    "# class Convolutional_Layer:\n",
    "#     def __init__(self, filter_dim = 3, stride = 1, pad = 0, alpha=0.01, num_of_filters = 1,reg = None,reg_penelty = 0):\n",
    "#         self.filter_dim = filter_dim\n",
    "#         self.n_filters = num_of_filters\n",
    "#         self.stride = stride\n",
    "#         self.bias = np.random.randn(self.n_filters, 1) / self.n_filters\n",
    "#         self.filter = np.random.randn(self.n_filters, self.filter_dim, self.filter_dim)/(self.filter_dim ** 2)\n",
    "#         self.pad = pad\n",
    "#         self.alpha = alpha\n",
    "#         self.optimizer_bias = Adam(lr = alpha)\n",
    "#         self.optimizer_filter = Adam(lr = alpha)\n",
    "#         self.reg_penelty = reg_penelty\n",
    "#         self.reg = reg\n",
    "\n",
    "#     def convolving(self, dimen_x, dimen_y):\n",
    "#         p = self.X.shape[1]\n",
    "#         q = self.X.shape[2]\n",
    "#         z = np.zeros((self.X.shape[0],self.n_filters, dimen_x, dimen_y))\n",
    "#         for i in range(0, p - self.filter_dim + 1, self.stride):\n",
    "#               for j in range(0, q - self.filter_dim + 1, self.stride):\n",
    "#                   temp = np.multiply(self.X[:, np.newaxis,i : i+self.filter_dim, j : j+self.filter_dim], self.filter[ np.newaxis,:, :, :])\n",
    "#                   z[:,:,i//self.stride,j//self.stride] = np.sum(temp,axis=(2,3)) + self.bias[:,0]\n",
    "#         return z\n",
    "\n",
    "\n",
    "#     def forward_pass(self, X, saved_weights = None):\n",
    "#         if saved_weights != None:\n",
    "#           saved_data = np.load('/content/drive/MyDrive/Colab Notebooks/Saved_Models/conv2d.npz')\n",
    "#           self.filter = saved_data['arr1']\n",
    "#           self.bias = saved_data['arr2']\n",
    "\n",
    "#         self.X = np.pad(X , ((0, 0), (self.pad, self.pad), (self.pad, self.pad)),'constant', constant_values=0)\n",
    "#         (d, p, t) = self.X.shape\n",
    "#         dimen_x = int(((p - self.filter_dim)//self.stride) + 1)\n",
    "#         dimen_y = int(((t - self.filter_dim)//self.stride) + 1)\n",
    "#         self.z = np.zeros((d, self.n_filters, dimen_x, dimen_y))\n",
    "#         self.z = self.convolving(dimen_x, dimen_y)\n",
    "\n",
    "#         return self.z\n",
    "\n",
    "#     def backprop(self, grad_z):\n",
    "#         (d, f, p, t) = grad_z.shape\n",
    "\n",
    "#         self.grads = np.zeros((d, p, t))\n",
    "#         # for i in range(d):\n",
    "#         #   for k in range(self.n_filters):\n",
    "#         #     filter_1 = np.flip((np.flip(self.filter[k], axis = 0)), axis = 1)\n",
    "#         #     self.grads[i] += self.convolving(np.pad(grad_z[i,k], ((1,1), (1,1)), 'constant', constant_values = 0), filter_1, p, t)\n",
    "\n",
    "#         # self.grads /= self.n_filters\n",
    "#         # self.grads = np.pad(self.grads, ((0,0),(1,1),(1,1)), 'constant', constant_values = 0)\n",
    "\n",
    "#         self.grad_filter = np.zeros((self.n_filters, self.filter_dim, self.filter_dim))\n",
    "#         grad_z = np.pad(grad_z, ((0,0),(0,0),(self.pad,self.pad),(self.pad,self.pad)), 'constant', constant_values = 0)\n",
    "\n",
    "#         for i in range(self.filter_dim):\n",
    "#               for ii in range(self.filter_dim):\n",
    "#                   self.grad_filter[:, i, ii] = np.sum(np.multiply(grad_z[:,:,:,:], self.X[:,  np.newaxis, i:p+i, ii:t+ii]),axis =(0,2,3) )\n",
    "#         self.grad_filter = self.grad_filter /(grad_z.shape[0] * grad_z.shape[2]*grad_z.shape[3])\n",
    "\n",
    "#         self.grad_bias = np.zeros_like(self.bias)\n",
    "\n",
    "#         for k in range(self.n_filters):\n",
    "#           self.grad_bias[k] = (grad_z[:,k].sum()) /(grad_z.shape[0] * grad_z.shape[2]*grad_z.shape[3])\n",
    "\n",
    "#         # Add L1 and L2 and elastic regularization terms\n",
    "#         if self.reg == 'l1':\n",
    "#           self.grad_filter += self.reg_penelty * np.sign(self.filter)\n",
    "#           self.grad_bias += self.reg_penelty * np.sign(self.bias)\n",
    "\n",
    "#         elif self.reg == 'l2':\n",
    "#           self.grad_filter += 2 * self.reg_penelty * self.filter\n",
    "#           self.grad_bias += 2 * self.reg_penelty * self.bias\n",
    "\n",
    "#         elif self.reg == 'elastic':\n",
    "#           self.grad_filter += self.reg_penelty * (0.5 * np.sign(self.filter) + 0.5 * self.filter)\n",
    "#           self.grad_bias += self.reg_penelty * (0.5 * np.sign(self.bias) + 0.5 * self.bias)\n",
    "\n",
    "#         return self.grads\n",
    "\n",
    "#     def applying_sgd(self):\n",
    "#         self.filter = self.filter - (self.alpha*self.grad_filter)\n",
    "#         self.bias = self.bias - (self.alpha*self.grad_bias)\n",
    "\n",
    "#     def applying_adam(self):\n",
    "#         self.filter -= self.optimizer_bias.update(self.grad_filter)\n",
    "#         self.bias -= self.optimizer_filter.update(self.grad_bias)\n",
    "\n",
    "#     def change_alpha(self):\n",
    "#         self.alpha = self.alpha/5\n",
    "\n",
    "#     def saving_params(self):\n",
    "#         np.savez('/content/drive/MyDrive/Colab Notebooks/Saved_Models/conv2d.npz',arr1 = self.filter,arr2 = self.bias )\n"
   ]
  },
  {
   "cell_type": "code",
   "execution_count": 123,
   "metadata": {},
   "outputs": [],
   "source": [
    "# import cupy as np\n",
    "# %pip install cupy"
   ]
  },
  {
   "cell_type": "code",
   "execution_count": 28,
   "metadata": {},
   "outputs": [
    {
     "name": "stdout",
     "output_type": "stream",
     "text": [
      "epoch:1 \t batch: 1 \t \taccuracy: 16.733333333333334\n",
      "epoch:1 \t batch: 2 \t \taccuracy: 23.866666666666667\n",
      "epoch:1 \t batch: 3 \t \taccuracy: 16.8\n",
      "epoch:1 \t batch: 4 \t \taccuracy: 24.2\n",
      "epoch:1 \t batch: 5 \t \taccuracy: 10.4\n",
      "epoch:1 \t batch: 6 \t \taccuracy: 18.46666666666667\n",
      "epoch:1 \t batch: 7 \t \taccuracy: 24.4\n",
      "epoch:1 \t batch: 8 \t \taccuracy: 25.4\n",
      "epoch:1 \t batch: 9 \t \taccuracy: 24.333333333333336\n",
      "epoch:1 \t batch: 10 \t \taccuracy: 25.466666666666665\n",
      "epoch:1 \t batch: 11 \t \taccuracy: 22.315202231520225\n",
      "Training_epoch:1 \t \tTrain_accuracy: 26.18820385569765\n",
      "Validation_epoch:1 \t \tval_accuracy: 25.63121652639633\n",
      "epoch:2 \t batch: 1 \t \taccuracy: 27.200000000000003\n",
      "epoch:2 \t batch: 2 \t \taccuracy: 23.466666666666665\n",
      "epoch:2 \t batch: 3 \t \taccuracy: 24.066666666666666\n",
      "epoch:2 \t batch: 4 \t \taccuracy: 27.200000000000003\n",
      "epoch:2 \t batch: 5 \t \taccuracy: 30.266666666666666\n",
      "epoch:2 \t batch: 6 \t \taccuracy: 30.933333333333334\n",
      "epoch:2 \t batch: 7 \t \taccuracy: 29.733333333333334\n",
      "epoch:2 \t batch: 8 \t \taccuracy: 29.86666666666667\n",
      "epoch:2 \t batch: 9 \t \taccuracy: 31.8\n",
      "epoch:2 \t batch: 10 \t \taccuracy: 32.53333333333333\n",
      "epoch:2 \t batch: 11 \t \taccuracy: 28.730822873082285\n",
      "Training_epoch:2 \t \tTrain_accuracy: 31.990837946172935\n",
      "Validation_epoch:2 \t \tval_accuracy: 30.48967100229533\n",
      "epoch:3 \t batch: 1 \t \taccuracy: 31.933333333333337\n",
      "epoch:3 \t batch: 2 \t \taccuracy: 32.733333333333334\n",
      "epoch:3 \t batch: 3 \t \taccuracy: 33.4\n",
      "epoch:3 \t batch: 4 \t \taccuracy: 39.0\n",
      "epoch:3 \t batch: 5 \t \taccuracy: 36.53333333333333\n",
      "epoch:3 \t batch: 6 \t \taccuracy: 38.800000000000004\n",
      "epoch:3 \t batch: 7 \t \taccuracy: 37.53333333333334\n",
      "epoch:3 \t batch: 8 \t \taccuracy: 37.93333333333334\n",
      "epoch:3 \t batch: 9 \t \taccuracy: 38.93333333333333\n",
      "epoch:3 \t batch: 10 \t \taccuracy: 39.13333333333333\n",
      "epoch:3 \t batch: 11 \t \taccuracy: 37.65690376569037\n",
      "Training_epoch:3 \t \tTrain_accuracy: 40.61207609594707\n",
      "Validation_epoch:3 \t \tval_accuracy: 37.796480489671005\n"
     ]
    }
   ],
   "source": [
    "X_testing = x_train\n",
    "Y_testing = y_train\n",
    "\n",
    "al = 0.001\n",
    "\n",
    "train_loss = []\n",
    "val_loss = []\n",
    "\n",
    "complete_NN = Neural_Network([\n",
    "                                Convolutional_Layer(alpha = al,num_of_filters = 16,pad = 0,filter_dim = 5,stride  = 1),\n",
    "                                relu(),\n",
    "                                pooling(),\n",
    "                                reshaping(),\n",
    "                                Linear_Layer(61504, 10, alpha = al,index = 0),\n",
    "                                softmax()\n",
    "                                ])\n",
    "CE = cross_entropy()\n",
    "\n",
    "acc = accuracy()\n",
    "epochs = 3\n",
    "batch_size = 1500\n",
    "done = 0\n",
    "for i in range(epochs):\n",
    "    for batch in range(0, X_testing.shape[0], batch_size):\n",
    "        out = complete_NN.forward_pass(X_testing[batch:batch + batch_size])\n",
    "        print(\"epoch:{} \\t batch: {} \\t \".format(i+1, 1 + (batch//batch_size)), end=\"\\t\")\n",
    "        # train_loss.append(CE.loss(out, Y_testing[batch:batch + batch_size]))\n",
    "        accuracy_val = acc.value(out, Y_testing[batch:batch + batch_size])*100\n",
    "        print(\"accuracy: {}\".format(accuracy_val))\n",
    "\n",
    "        complete_NN.backprop(Y_testing[batch:batch + batch_size])\n",
    "        # complete_NN.applying_sgd()\n",
    "        complete_NN.applying_adam()\n",
    "\n",
    "        \n",
    "    out_train = complete_NN.forward_pass(X_testing)\n",
    "    print(\"Training_epoch:{} \\t \".format(i+1), end=\"\\t\")\n",
    "    train_loss.append(CE.loss(out_train, Y_testing))\n",
    "    accuracy_train = acc.value(out_train, Y_testing)*100\n",
    "    print(\"Train_accuracy: {}\".format(accuracy_train))\n",
    "    \n",
    "    out_val = complete_NN.forward_pass(x_val)\n",
    "    print(\"Validation_epoch:{} \\t \".format(i+1), end=\"\\t\")\n",
    "    val_loss.append(CE.loss(out_val, y_val))\n",
    "    accuracy_val = acc.value(out_val, y_val)*100\n",
    "    print(\"val_accuracy: {}\".format(accuracy_val))\n",
    "    \n"
   ]
  },
  {
   "cell_type": "code",
   "execution_count": 29,
   "metadata": {},
   "outputs": [
    {
     "name": "stdout",
     "output_type": "stream",
     "text": [
      "The accuracy on test set is 37.869520897043834\n"
     ]
    }
   ],
   "source": [
    "out_test = complete_NN.forward_pass(x_test)\n",
    "print(\"The accuracy on test set is {}\".format(acc.value(out_test, y_test)*100))"
   ]
  },
  {
   "cell_type": "code",
   "execution_count": 32,
   "metadata": {},
   "outputs": [
    {
     "data": {
      "text/plain": [
       "[2.110478302642857, 1.9284683720782587, 1.7869936911390611]"
      ]
     },
     "execution_count": 32,
     "metadata": {},
     "output_type": "execute_result"
    }
   ],
   "source": [
    "val_loss"
   ]
  },
  {
   "cell_type": "code",
   "execution_count": 33,
   "metadata": {},
   "outputs": [
    {
     "data": {
      "text/plain": [
       "[2.094034301404596, 1.9005086589824365, 1.7242106263519852]"
      ]
     },
     "execution_count": 33,
     "metadata": {},
     "output_type": "execute_result"
    }
   ],
   "source": [
    "train_loss"
   ]
  },
  {
   "cell_type": "code",
   "execution_count": 40,
   "metadata": {},
   "outputs": [
    {
     "data": {
      "image/png": "[encoded data removed]",
      "text/plain": [
       "<Figure size 640x480 with 1 Axes>"
      ]
     },
     "metadata": {},
     "output_type": "display_data"
    }
   ],
   "source": [
    "epochs_list = range(1, len(train_loss) + 1)\n",
    "\n",
    "# Plotting\n",
    "plt.plot(epochs_list, train_loss, 'b', label='Train Loss')\n",
    "plt.plot(epochs_list, val_loss, 'r', label='Validation Loss')\n",
    "plt.title('Training and Validation Loss')\n",
    "plt.xlabel('Epochs')\n",
    "plt.ylabel('Loss')\n",
    "plt.legend()\n",
    "plt.show()"
   ]
  },
  {
   "cell_type": "code",
   "execution_count": 42,
   "metadata": {},
   "outputs": [
    {
     "data": {
      "text/plain": [
       "array([0, 0, 7, ..., 8, 0, 8])"
      ]
     },
     "execution_count": 42,
     "metadata": {},
     "output_type": "execute_result"
    }
   ],
   "source": [
    "predicted = np.argmax(out_test,axis = 1)\n",
    "predicted"
   ]
  },
  {
   "cell_type": "markdown",
   "metadata": {},
   "source": [
    "CONFUSION MATRIX"
   ]
  },
  {
   "cell_type": "code",
   "execution_count": 34,
   "metadata": {},
   "outputs": [],
   "source": [
    "def confusion_matrix(predicted,actual,n_classes):\n",
    "  conf_mat = np.zeros((n_classes, n_classes))\n",
    "  for i in range(len(predicted)):\n",
    "    conf_mat[int(actual[i])][int(predicted[i])] = conf_mat[int(actual[i])][int(predicted[i])] + 1\n",
    "\n",
    "  return conf_mat"
   ]
  },
  {
   "cell_type": "code",
   "execution_count": 43,
   "metadata": {},
   "outputs": [
    {
     "name": "stdout",
     "output_type": "stream",
     "text": [
      "[[742.  82.   3.   9. 136.  35.  29.  81. 327.  14.]\n",
      " [168. 314.   0.   2.  92.   1.  78.  28.  98.   5.]\n",
      " [126.  97.  17.   0.  65.   4.  20.  16.  80.   8.]\n",
      " [ 89.   8.   0. 151.  43.  15.   9.  22. 292.   4.]\n",
      " [232.  23.   1.  12. 413.  10.  16.  45. 167.  10.]\n",
      " [236.   7.   1.   3.  41.  33.   5.  10. 158.   6.]\n",
      " [111.  87.   1.   1.  57.   0. 146.  68.  85.   3.]\n",
      " [143.  35.   3.   1.  61.   5.  50. 134. 107.   7.]\n",
      " [234.   8.   1.  16. 157.  11.  15.  18. 980.   6.]\n",
      " [172.   8.   1.   3. 101.   5.   5.   7. 214.  42.]]\n"
     ]
    }
   ],
   "source": [
    "n_classes = np.unique(y_train).shape[0]\n",
    "\n",
    "print(confusion_matrix(predicted,y_test,n_classes))"
   ]
  },
  {
   "cell_type": "markdown",
   "metadata": {},
   "source": [
    "F1 score"
   ]
  },
  {
   "cell_type": "code",
   "execution_count": 44,
   "metadata": {},
   "outputs": [],
   "source": [
    "def f1_score(predicted,actual,n_classes):\n",
    "  conf_mat = confusion_matrix(predicted,actual,n_classes)\n",
    "  f1_score = np.zeros(n_classes)\n",
    "  for i in range(n_classes):\n",
    "    tp = conf_mat[i][i]\n",
    "    fn = sum([conf_mat[k][i] for k in range(n_classes)]) - tp\n",
    "    fp = np.sum(conf_mat[i]) -tp\n",
    "    precision = tp / (tp + fp)\n",
    "    recall = tp / (tp + fn)\n",
    "    f1_score[i] = 2 * (precision * recall) / (precision + recall)\n",
    "\n",
    "  return f1_score\n"
   ]
  },
  {
   "cell_type": "code",
   "execution_count": 45,
   "metadata": {},
   "outputs": [
    {
     "name": "stdout",
     "output_type": "stream",
     "text": [
      "[0.39989221 0.43161512 0.07375271 0.36341757 0.39427208 0.10662359\n",
      " 0.31330472 0.27487179 0.49570056 0.12669683]\n"
     ]
    }
   ],
   "source": [
    "print(f1_score(predicted,y_test,n_classes))"
   ]
  }
 ],
 "metadata": {
  "kernelspec": {
   "display_name": "Python 3",
   "language": "python",
   "name": "python3"
  },
  "language_info": {
   "codemirror_mode": {
    "name": "ipython",
    "version": 3
   },
   "file_extension": ".py",
   "mimetype": "text/x-python",
   "name": "python",
   "nbconvert_exporter": "python",
   "pygments_lexer": "ipython3",
   "version": "3.12.2"
  }
 },
 "nbformat": 4,
 "nbformat_minor": 2
}
